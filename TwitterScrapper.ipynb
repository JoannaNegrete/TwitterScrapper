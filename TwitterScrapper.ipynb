{
 "cells": [
  {
   "cell_type": "markdown",
   "metadata": {},
   "source": [
    "## How to apply for API access"
   ]
  },
  {
   "cell_type": "markdown",
   "metadata": {},
   "source": [
    "You will need to obtain access to the API. Follow the link:\n",
    "https://developer.twitter.com/en/apply-for-access\n",
    "\n",
    "Couple other useful links:\n",
    "https://developer.twitter.com/en/docs\n",
    "https://developer.twitter.com/en/docs/tutorials"
   ]
  },
  {
   "cell_type": "markdown",
   "metadata": {},
   "source": [
    "Create a Project in the developer portal"
   ]
  },
  {
   "cell_type": "markdown",
   "metadata": {},
   "source": [
    "https://developer.twitter.com/en/docs/tutorials/step-by-step-guide-to-making-your-first-request-to-the-twitter-api-v2"
   ]
  },
  {
   "cell_type": "markdown",
   "metadata": {},
   "source": [
    "Fantastic book that I followed: \"Mining the Social Web\" by Matthew Russell & Mikhail Klassen"
   ]
  },
  {
   "cell_type": "markdown",
   "metadata": {},
   "source": [
    "## Configurations and Imports"
   ]
  },
  {
   "cell_type": "code",
   "execution_count": 2,
   "metadata": {},
   "outputs": [],
   "source": [
    "## Inital installations\n",
    "# !pip install twitter\n",
    "# !pip install prettytable \n",
    "# !pip install nltk"
   ]
  },
  {
   "cell_type": "code",
   "execution_count": 18,
   "metadata": {},
   "outputs": [],
   "source": [
    "import json\n",
    "import twitter\n",
    "from collections import Counter\n",
    "from prettytable import PrettyTable"
   ]
  },
  {
   "cell_type": "markdown",
   "metadata": {},
   "source": [
    "### Set up authorization and access"
   ]
  },
  {
   "cell_type": "code",
   "execution_count": 3,
   "metadata": {},
   "outputs": [],
   "source": [
    "CONSUMER_KEY = ''\n",
    "CONSUMER_SECRET = ''\n",
    "OAUTH_TOKEN = ''\n",
    "OAUTH_TOKEN_SECRET = ''\n",
    "\n",
    "auth = twitter.oauth.OAuth(OAUTH_TOKEN, OAUTH_TOKEN_SECRET, CONSUMER_KEY, CONSUMER_SECRET)\n",
    "\n",
    "twitter_api = twitter.Twitter(auth=auth)"
   ]
  },
  {
   "cell_type": "code",
   "execution_count": 4,
   "metadata": {},
   "outputs": [
    {
     "name": "stdout",
     "output_type": "stream",
     "text": [
      "\n",
      "{'trends': [{'name': 'Mario', 'url': 'http://twitter.com/search?q=Mario', 'promoted_content': None, 'query': 'Mario', 'tweet_volume': 507491}, {'name': 'Jack Black', 'url': 'http://twitter.com/search?q=%22Jack+Black%22', 'promoted_content': None, 'query': '%22Jack+Black%22', 'tweet_volume': 63797}, {'name': 'Panthers', 'url': 'http://twitter.com/search?q=Panthers', 'promoted_content': None, 'query': 'Panthers', 'tweet_volume': 56867}, {'name': 'Sam Darnold', 'url': 'http://twitter.com/search?q=%22Sam+Darnold%22', 'promoted_content': None, 'query': '%22Sam+Darnold%22', 'tweet_volume': None}, {'name': 'Texans', 'url': 'http://twitter.com/search?q=Texans', 'promoted_content': None, 'query': 'Texans', 'tweet_volume': 41950}, {'name': 'Kyland', 'url': 'http://twitter.com/search?q=Kyland', 'promoted_content': None, 'query': 'Kyland', 'tweet_volume': 19322}, {'name': '#NintendoDirect', 'url': 'http://twitter.com/search?q=%23NintendoDirect', 'promoted_content': None, 'query': '%23NintendoDirect', 'tweet_volume': 190233}, {'name': 'Davis Mills', 'url': 'http://twitter.com/search?q=%22Davis+Mills%22', 'promoted_content': None, 'query': '%22Davis+Mills%22', 'tweet_volume': None}, {'name': 'DJ Moore', 'url': 'http://twitter.com/search?q=%22DJ+Moore%22', 'promoted_content': None, 'query': '%22DJ+Moore%22', 'tweet_volume': None}, {'name': 'Kirby', 'url': 'http://twitter.com/search?q=Kirby', 'promoted_content': None, 'query': 'Kirby', 'tweet_volume': 138489}, {'name': 'Bayonetta 3', 'url': 'http://twitter.com/search?q=%22Bayonetta+3%22', 'promoted_content': None, 'query': '%22Bayonetta+3%22', 'tweet_volume': 92087}, {'name': '#CARvsHOU', 'url': 'http://twitter.com/search?q=%23CARvsHOU', 'promoted_content': None, 'query': '%23CARvsHOU', 'tweet_volume': None}, {'name': '#SVU23Premiere', 'url': 'http://twitter.com/search?q=%23SVU23Premiere', 'promoted_content': None, 'query': '%23SVU23Premiere', 'tweet_volume': None}, {'name': 'Charles Martinet', 'url': 'http://twitter.com/search?q=%22Charles+Martinet%22', 'promoted_content': None, 'query': '%22Charles+Martinet%22', 'tweet_volume': 42769}, {'name': '#ForTonight', 'url': 'http://twitter.com/search?q=%23ForTonight', 'promoted_content': None, 'query': '%23ForTonight', 'tweet_volume': None}, {'name': 'Seth Rogen', 'url': 'http://twitter.com/search?q=%22Seth+Rogen%22', 'promoted_content': None, 'query': '%22Seth+Rogen%22', 'tweet_volume': 30712}, {'name': '#BigBrother', 'url': 'http://twitter.com/search?q=%23BigBrother', 'promoted_content': None, 'query': '%23BigBrother', 'tweet_volume': None}, {'name': 'Splatoon 3', 'url': 'http://twitter.com/search?q=%22Splatoon+3%22', 'promoted_content': None, 'query': '%22Splatoon+3%22', 'tweet_volume': 40501}, {'name': 'Switch', 'url': 'http://twitter.com/search?q=Switch', 'promoted_content': None, 'query': 'Switch', 'tweet_volume': 484605}, {'name': 'Anthony Miller', 'url': 'http://twitter.com/search?q=%22Anthony+Miller%22', 'promoted_content': None, 'query': '%22Anthony+Miller%22', 'tweet_volume': None}, {'name': 'Joey Slye', 'url': 'http://twitter.com/search?q=%22Joey+Slye%22', 'promoted_content': None, 'query': '%22Joey+Slye%22', 'tweet_volume': None}, {'name': 'Carolina', 'url': 'http://twitter.com/search?q=Carolina', 'promoted_content': None, 'query': 'Carolina', 'tweet_volume': 55294}, {'name': 'Danny Devito', 'url': 'http://twitter.com/search?q=%22Danny+Devito%22', 'promoted_content': None, 'query': '%22Danny+Devito%22', 'tweet_volume': 14974}, {'name': 'Joe Brady', 'url': 'http://twitter.com/search?q=%22Joe+Brady%22', 'promoted_content': None, 'query': '%22Joe+Brady%22', 'tweet_volume': None}, {'name': 'Jelani', 'url': 'http://twitter.com/search?q=Jelani', 'promoted_content': None, 'query': 'Jelani', 'tweet_volume': 81557}, {'name': 'Donkey Kong', 'url': 'http://twitter.com/search?q=%22Donkey+Kong%22', 'promoted_content': None, 'query': '%22Donkey+Kong%22', 'tweet_volume': 43313}, {'name': 'Illumination', 'url': 'http://twitter.com/search?q=Illumination', 'promoted_content': None, 'query': 'Illumination', 'tweet_volume': 17452}, {'name': 'Joe Buck', 'url': 'http://twitter.com/search?q=%22Joe+Buck%22', 'promoted_content': None, 'query': '%22Joe+Buck%22', 'tweet_volume': None}, {'name': 'Robby Anderson', 'url': 'http://twitter.com/search?q=%22Robby+Anderson%22', 'promoted_content': None, 'query': '%22Robby+Anderson%22', 'tweet_volume': None}, {'name': 'Marshall', 'url': 'http://twitter.com/search?q=Marshall', 'promoted_content': None, 'query': 'Marshall', 'tweet_volume': 35705}, {'name': 'McCaffery', 'url': 'http://twitter.com/search?q=McCaffery', 'promoted_content': None, 'query': 'McCaffery', 'tweet_volume': None}, {'name': 'Hubbard', 'url': 'http://twitter.com/search?q=Hubbard', 'promoted_content': None, 'query': 'Hubbard', 'tweet_volume': None}, {'name': 'Toad', 'url': 'http://twitter.com/search?q=Toad', 'promoted_content': None, 'query': 'Toad', 'tweet_volume': 33239}, {'name': 'Actraiser', 'url': 'http://twitter.com/search?q=Actraiser', 'promoted_content': None, 'query': 'Actraiser', 'tweet_volume': 10465}, {'name': 'Brewster', 'url': 'http://twitter.com/search?q=Brewster', 'promoted_content': None, 'query': 'Brewster', 'tweet_volume': 20608}, {'name': 'Mark Meadows', 'url': 'http://twitter.com/search?q=%22Mark+Meadows%22', 'promoted_content': None, 'query': '%22Mark+Meadows%22', 'tweet_volume': 28265}, {'name': 'Aaron Nola', 'url': 'http://twitter.com/search?q=%22Aaron+Nola%22', 'promoted_content': None, 'query': '%22Aaron+Nola%22', 'tweet_volume': None}, {'name': 'Matt Rhule', 'url': 'http://twitter.com/search?q=%22Matt+Rhule%22', 'promoted_content': None, 'query': '%22Matt+Rhule%22', 'tweet_volume': None}, {'name': 'Big D', 'url': 'http://twitter.com/search?q=%22Big+D%22', 'promoted_content': None, 'query': '%22Big+D%22', 'tweet_volume': 24202}, {'name': 'Adam Gase', 'url': 'http://twitter.com/search?q=%22Adam+Gase%22', 'promoted_content': None, 'query': '%22Adam+Gase%22', 'tweet_volume': None}, {'name': 'Bob Hoskins', 'url': 'http://twitter.com/search?q=%22Bob+Hoskins%22', 'promoted_content': None, 'query': '%22Bob+Hoskins%22', 'tweet_volume': None}, {'name': 'Kash Doll', 'url': 'http://twitter.com/search?q=%22Kash+Doll%22', 'promoted_content': None, 'query': '%22Kash+Doll%22', 'tweet_volume': None}, {'name': 'Triangle Strategy', 'url': 'http://twitter.com/search?q=%22Triangle+Strategy%22', 'promoted_content': None, 'query': '%22Triangle+Strategy%22', 'tweet_volume': None}, {'name': 'Juan Soto', 'url': 'http://twitter.com/search?q=%22Juan+Soto%22', 'promoted_content': None, 'query': '%22Juan+Soto%22', 'tweet_volume': None}, {'name': 'Keegan', 'url': 'http://twitter.com/search?q=Keegan', 'promoted_content': None, 'query': 'Keegan', 'tweet_volume': 19700}, {'name': 'Cereza', 'url': 'http://twitter.com/search?q=Cereza', 'promoted_content': None, 'query': 'Cereza', 'tweet_volume': None}, {'name': 'PETA', 'url': 'http://twitter.com/search?q=PETA', 'promoted_content': None, 'query': 'PETA', 'tweet_volume': 42226}, {'name': 'CMac', 'url': 'http://twitter.com/search?q=CMac', 'promoted_content': None, 'query': 'CMac', 'tweet_volume': None}, {'name': 'Jaycee', 'url': 'http://twitter.com/search?q=Jaycee', 'promoted_content': None, 'query': 'Jaycee', 'tweet_volume': None}, {'name': 'Brian Burns', 'url': 'http://twitter.com/search?q=%22Brian+Burns%22', 'promoted_content': None, 'query': '%22Brian+Burns%22', 'tweet_volume': None}], 'as_of': '2021-09-24T02:11:04Z', 'created_at': '2021-09-22T14:01:14Z', 'locations': [{'name': 'United States', 'woeid': 23424977}]}\n"
     ]
    }
   ],
   "source": [
    "# select geo for which you want to get the tweets\n",
    "# set 1 for world\n",
    "\n",
    "WORLD_WOE_ID = 1\n",
    "US_WOE_ID = 23424977\n",
    "\n",
    "world_trends = twitter_api.trends.place(_id=WORLD_WOE_ID)\n",
    "us_trends = twitter_api.trends.place(_id=US_WOE_ID)\n",
    "\n",
    "#print(world_trends[0])\n",
    "print()\n",
    "print(us_trends[0])"
   ]
  },
  {
   "cell_type": "markdown",
   "metadata": {},
   "source": [
    "## Retriving Trends"
   ]
  },
  {
   "cell_type": "code",
   "execution_count": 7,
   "metadata": {},
   "outputs": [
    {
     "name": "stdout",
     "output_type": "stream",
     "text": [
      "['Mario', 'Switch', '#askhanbin', '#MTVMIAW2021', 'スプラ3', '#NintendoDirect', 'Jack Black', 'カービィ', '#TópicodetendênciaComprar', 'Luigi', 'Panthers', '#EliminaçãoAFazenda', 'Bayonetta 3', 'Kirby', 'Sam Darnold', 'アクトレイザー', 'ニンダイ', 'Texans', 'Medrado', 'カスタムロボ', 'Kyland', 'サンブレイク', 'ベヨネッタ3', 'Davis Mills', 'ヴァイオレット・エヴァーガーデン', 'DJ Moore', 'Charles Martinet', 'マスター', 'チョコボレーシング', 'Seth Rogen', 'モンハン', 'とうらぶ無双', 'マリオストーリー', 'Splatoon 3', 'バンカズ', 'ハトの巣', 'lary', 'ゴールデンアイ', '刀剣乱舞無双', 'Chano', 'ライズG', 'スプラトゥーン3', 'Fabiola', 'ムジュラ', '金曜ロードショー', 'チョコボGP', 'Q&A B.I ONLINE CONCERT', 'Danny Devito', 'Illumination', 'Donkey Kong']\n"
     ]
    }
   ],
   "source": [
    "trends = []\n",
    "for trend in world_trends[0]['trends']:\n",
    "    trends.append(trend['name'])\n",
    "print(trends)"
   ]
  },
  {
   "cell_type": "code",
   "execution_count": 8,
   "metadata": {},
   "outputs": [
    {
     "name": "stdout",
     "output_type": "stream",
     "text": [
      "['Mario', 'Jack Black', 'Panthers', 'Sam Darnold', 'Texans', 'Kyland', '#NintendoDirect', 'Davis Mills', 'DJ Moore', 'Kirby', 'Bayonetta 3', '#CARvsHOU', '#SVU23Premiere', 'Charles Martinet', '#ForTonight', 'Seth Rogen', '#BigBrother', 'Splatoon 3', 'Switch', 'Anthony Miller', 'Joey Slye', 'Carolina', 'Danny Devito', 'Joe Brady', 'Jelani', 'Donkey Kong', 'Illumination', 'Joe Buck', 'Robby Anderson', 'Marshall', 'McCaffery', 'Hubbard', 'Toad', 'Actraiser', 'Brewster', 'Mark Meadows', 'Aaron Nola', 'Matt Rhule', 'Big D', 'Adam Gase', 'Bob Hoskins', 'Kash Doll', 'Triangle Strategy', 'Juan Soto', 'Keegan', 'Cereza', 'PETA', 'CMac', 'Jaycee', 'Brian Burns']\n"
     ]
    }
   ],
   "source": [
    "trends = []\n",
    "for trend in us_trends[0]['trends']:\n",
    "    trends.append(trend['name'])\n",
    "print(trends)"
   ]
  },
  {
   "cell_type": "code",
   "execution_count": 9,
   "metadata": {},
   "outputs": [
    {
     "name": "stdout",
     "output_type": "stream",
     "text": [
      "{'Illumination', 'Kirby', 'Kyland', 'Splatoon 3', 'Panthers', 'Texans', 'Switch', 'Danny Devito', 'Donkey Kong', 'Seth Rogen', 'Mario', 'Bayonetta 3', '#NintendoDirect', 'Jack Black', 'Sam Darnold', 'DJ Moore', 'Davis Mills', 'Charles Martinet'}\n"
     ]
    }
   ],
   "source": [
    "world_trends_set = set([trend['name'] \n",
    "                        for trend in world_trends[0]['trends']])\n",
    "\n",
    "us_trends_set = set([trend['name'] \n",
    "                     for trend in us_trends[0]['trends']]) \n",
    "\n",
    "common_trends = world_trends_set.intersection(us_trends_set)\n",
    "\n",
    "print(common_trends)"
   ]
  },
  {
   "cell_type": "markdown",
   "metadata": {},
   "source": [
    "## Find tweets with specific keywords"
   ]
  },
  {
   "cell_type": "code",
   "execution_count": 10,
   "metadata": {},
   "outputs": [
    {
     "data": {
      "text/plain": [
       "16"
      ]
     },
     "execution_count": 10,
     "metadata": {},
     "output_type": "execute_result"
    }
   ],
   "source": [
    "# In search for tweets about peanut allergy vaccine\n",
    "q = 'peanut allergy vaccine'\n",
    "\n",
    "count = 1000\n",
    "\n",
    "# Import unquote to prevent url encoding errors in next_results\n",
    "from urllib.parse import unquote\n",
    "\n",
    "# https://developer.twitter.com/en/docs/twitter-api/tweets/filtered-stream/api-reference/get-tweets-search-stream\n",
    "search_results = twitter_api.search.tweets(q=q, count=count)\n",
    "scrapped = search_results['statuses']\n",
    "len(scrapped)"
   ]
  },
  {
   "cell_type": "code",
   "execution_count": 11,
   "metadata": {},
   "outputs": [
    {
     "ename": "NameError",
     "evalue": "name 'i' is not defined",
     "output_type": "error",
     "traceback": [
      "\u001b[1;31m---------------------------------------------------------------------------\u001b[0m",
      "\u001b[1;31mNameError\u001b[0m                                 Traceback (most recent call last)",
      "\u001b[1;32m<ipython-input-11-f018f31ce45e>\u001b[0m in \u001b[0;36m<module>\u001b[1;34m\u001b[0m\n\u001b[1;32m----> 1\u001b[1;33m \u001b[0mprint\u001b[0m\u001b[1;33m(\u001b[0m\u001b[0mscrapped\u001b[0m\u001b[1;33m[\u001b[0m\u001b[0mi\u001b[0m\u001b[1;33m]\u001b[0m\u001b[1;33m.\u001b[0m\u001b[0mkeys\u001b[0m\u001b[1;33m(\u001b[0m\u001b[1;33m)\u001b[0m\u001b[1;33m)\u001b[0m\u001b[1;33m\u001b[0m\u001b[1;33m\u001b[0m\u001b[0m\n\u001b[0m\u001b[0;32m      2\u001b[0m \u001b[0mprint\u001b[0m\u001b[1;33m(\u001b[0m\u001b[1;33m)\u001b[0m\u001b[1;33m\u001b[0m\u001b[1;33m\u001b[0m\u001b[0m\n\u001b[0;32m      3\u001b[0m \u001b[0mprint\u001b[0m\u001b[1;33m(\u001b[0m\u001b[0mscrapped\u001b[0m\u001b[1;33m[\u001b[0m\u001b[0mi\u001b[0m\u001b[1;33m]\u001b[0m\u001b[1;33m[\u001b[0m\u001b[1;34m'user'\u001b[0m\u001b[1;33m]\u001b[0m\u001b[1;33m.\u001b[0m\u001b[0mkeys\u001b[0m\u001b[1;33m(\u001b[0m\u001b[1;33m)\u001b[0m\u001b[1;33m)\u001b[0m\u001b[1;33m\u001b[0m\u001b[1;33m\u001b[0m\u001b[0m\n",
      "\u001b[1;31mNameError\u001b[0m: name 'i' is not defined"
     ]
    }
   ],
   "source": [
    "print(scrapped[i].keys())\n",
    "print()\n",
    "print(scrapped[i]['user'].keys())"
   ]
  },
  {
   "cell_type": "code",
   "execution_count": 12,
   "metadata": {},
   "outputs": [
    {
     "name": "stdout",
     "output_type": "stream",
     "text": [
      "\n",
      "Name          :  Harpua\n",
      "Screen Name   :  Harpua71\n",
      "# of followers:  371\n",
      "@hieronious @WhosePolitics @DAnderson314 @nypost And a peanut allergy vaccine would be awesome for them.\n",
      "Favorites     :  2\n",
      "Retweets      :  0\n",
      "___________________\n",
      "\n",
      "Name          :  ResearchPool\n",
      "Screen Name   :  ResearchPool\n",
      "# of followers:  8910\n",
      "$AGY #Allergy Therapeutics PLC Allergy Therapeutics: VLP Peanut heading towards US Phase I studies: Allergy Therape… https://t.co/6gEQL5RFwA\n",
      "Favorites     :  0\n",
      "Retweets      :  0\n",
      "___________________\n",
      "\n",
      "Name          :  vonnie gilbert\n",
      "Screen Name   :  vgilbert5084\n",
      "# of followers:  5\n",
      "@polycomplexity @VP @POTUS reaction. Allergic reactions can happen to anyone for any reason(peanut allergies are a… https://t.co/6ZZyKAdngH\n",
      "Favorites     :  0\n",
      "Retweets      :  0\n",
      "___________________\n",
      "\n",
      "Name          :  Blake P\n",
      "Screen Name   :  BlakeP36152368\n",
      "# of followers:  1\n",
      "@Kai2002z @ACME_Van @gabegutierrez @BillingsClinic The best one I heard was that she couldn’t get vaccinated becaus… https://t.co/bWkj5dye1U\n",
      "Favorites     :  3\n",
      "Retweets      :  0\n",
      "___________________\n",
      "\n",
      "Name          :  Jayne Intveld\n",
      "Screen Name   :  JayneLoganMxxx\n",
      "# of followers:  958\n",
      "RT @1LastRepublican: @Gitmo33 Anyone have an actual name of the child or any documentation of what really happened? \n",
      "Or are we just suppose…\n",
      "Favorites     :  0\n",
      "Retweets      :  1\n",
      "___________________\n",
      "\n",
      "Name          :  SirK🇺🇸🌊\n",
      "Screen Name   :  1LastRepublican\n",
      "# of followers:  669\n",
      "@Gitmo33 Anyone have an actual name of the child or any documentation of what really happened? \n",
      "Or are we just supp… https://t.co/fhOoo9A4SI\n",
      "Favorites     :  27\n",
      "Retweets      :  1\n",
      "___________________\n",
      "\n",
      "Name          :  Rebecca J. Riley✌\n",
      "Screen Name   :  rebeccariley23\n",
      "# of followers:  449\n",
      "@laurahelmuth @sciam I know there’s a vaccine for peanut allergies now (I don’t have a peanut allergy), I’m despera… https://t.co/3gEycI4gUn\n",
      "Favorites     :  1\n",
      "Retweets      :  0\n",
      "___________________\n",
      "\n",
      "Name          :  Justin Houston\n",
      "Screen Name   :  FinsUpSailor\n",
      "# of followers:  2238\n",
      "@infamouse11 @kaki385 $100 bucks they won't record it as a Covid vaccine death...probably reported as  a peanut allergy\n",
      "Favorites     :  7\n",
      "Retweets      :  0\n",
      "___________________\n",
      "\n",
      "Name          :  𝕵azz🏁\n",
      "Screen Name   :  Jazzylude\n",
      "# of followers:  1337\n",
      "@DiamondandSilk It's so funny u mentioned peanut allergy. And u know the sad shit about that people don't even beli… https://t.co/bUtHqL9ASP\n",
      "Favorites     :  0\n",
      "Retweets      :  0\n",
      "___________________\n",
      "\n",
      "Name          :  Theresa Taillefer\n",
      "Screen Name   :  Treesaw18\n",
      "# of followers:  10\n",
      "@DrP_MD \n",
      "Christine C suggested I contact you. My son has a peanut allergy. We were told he should not have this Cov… https://t.co/TsnYH2OW3s\n",
      "Favorites     :  0\n",
      "Retweets      :  0\n",
      "___________________\n",
      "\n",
      "Name          :  TK 🇺🇸🇺🇸🇺🇸\n",
      "Screen Name   :  Kreutzjr1\n",
      "# of followers:  532\n",
      "RT @pentony: @pattiefoto The peanut allergy that currently can kill many is as curable with the Covid vaccine as Covid is.\n",
      "Favorites     :  0\n",
      "Retweets      :  1\n",
      "___________________\n",
      "\n",
      "Name          :  Brandy Leigh (Heinze) Hoover\n",
      "Screen Name   :  YourLyric\n",
      "# of followers:  117\n",
      "@RobbyDuzIt @i_think_1st @maddow Even better; if there were a vaccine you could give babies to prevent *almost* all… https://t.co/dH7NHjVVJI\n",
      "Favorites     :  2\n",
      "Retweets      :  0\n",
      "___________________\n",
      "\n",
      "Name          :  Dae 🎃\n",
      "Screen Name   :  DJOceans\n",
      "# of followers:  957\n",
      "@truth_mry @NICKIMINAJ Your \"thousands\" don't out-weigh the MILLIONS the vaccine has saved doe. Basically saying PE… https://t.co/5QNDebIePw\n",
      "Favorites     :  0\n",
      "Retweets      :  0\n",
      "___________________\n",
      "\n",
      "Name          :  Jake\n",
      "Screen Name   :  pentony\n",
      "# of followers:  2558\n",
      "@pattiefoto The peanut allergy that currently can kill many is as curable with the Covid vaccine as Covid is.\n",
      "Favorites     :  1\n",
      "Retweets      :  1\n",
      "___________________\n",
      "\n",
      "Name          :  🧡veebs says get vaxxed🧡\n",
      "Screen Name   :  veebs47\n",
      "# of followers:  1173\n",
      "So can kids opt out of peanut allergy regulations at school? Like can a kid say \"sorry it's my fucking right to eat… https://t.co/vhdI8S5GsA\n",
      "Favorites     :  6\n",
      "Retweets      :  0\n",
      "___________________\n",
      "\n",
      "Name          :  The Civil Power Podcast 🇺🇲 🎙\n",
      "Screen Name   :  AbolishTyranny_\n",
      "# of followers:  217\n",
      "@RealCandaceO did you realize that peanut allergy comes from vaccine manufacturers using peanut culture to grow the… https://t.co/ZKKLLVpG9P\n",
      "Favorites     :  1\n",
      "Retweets      :  0\n",
      "___________________\n"
     ]
    }
   ],
   "source": [
    "# Here are the tweets, 2nd from the top is the bullseye\n",
    "for i in range(len(scrapped)):\n",
    "    print()    \n",
    "    print('Name          : ', scrapped[i]['user']['name'])\n",
    "    print('Screen Name   : ', scrapped[i]['user']['screen_name'])\n",
    "    print('# of followers: ', scrapped[i]['user']['followers_count'])\n",
    "    print(scrapped[i]['text'])\n",
    "    print('Favorites     : ', scrapped[i]['favorite_count'])\n",
    "    print('Retweets      : ', scrapped[i]['retweet_count'])\n",
    "    print('___________________')"
   ]
  },
  {
   "cell_type": "code",
   "execution_count": 13,
   "metadata": {},
   "outputs": [
    {
     "name": "stdout",
     "output_type": "stream",
     "text": [
      "[{'created_at': 'Wed Sep 22 20:56:15 +0000 2021', 'id': 1440782017138806786, 'id_str': '1440782017138806786', 'text': '@hieronious @WhosePolitics @DAnderson314 @nypost And a peanut allergy vaccine would be awesome for them.', 'truncated': False, 'entities': {'hashtags': [], 'symbols': [], 'user_mentions': [{'screen_name': 'hieronious', 'name': 'Hieronious', 'id': 1389588666708725764, 'id_str': '1389588666708725764', 'indices': [0, 11]}, {'screen_name': 'WhosePolitics', 'name': 'something witty', 'id': 730213920825344000, 'id_str': '730213920825344000', 'indices': [12, 26]}, {'screen_name': 'DAnderson314', 'name': 'DA', 'id': 1405943564, 'id_str': '1405943564', 'indices': [27, 40]}, {'screen_name': 'nypost', 'name': 'New York Post', 'id': 17469289, 'id_str': '17469289', 'indices': [41, 48]}], 'urls': []}, 'metadata': {'iso_language_code': 'en', 'result_type': 'recent'}, 'source': '<a href=\"http://twitter.com/download/iphone\" rel=\"nofollow\">Twitter for iPhone</a>', 'in_reply_to_status_id': 1440777750097248263, 'in_reply_to_status_id_str': '1440777750097248263', 'in_reply_to_user_id': 1389588666708725764, 'in_reply_to_user_id_str': '1389588666708725764', 'in_reply_to_screen_name': 'hieronious', 'user': {'id': 1679188633, 'id_str': '1679188633', 'name': 'Harpua', 'screen_name': 'Harpua71', 'location': 'Gamehendge', 'description': 'Inflation is taxation without representation - Milton Friedman', 'url': 'https://t.co/scNOzNauin', 'entities': {'url': {'urls': [{'url': 'https://t.co/scNOzNauin', 'expanded_url': 'http://istillcallitdeercreek.com', 'display_url': 'istillcallitdeercreek.com', 'indices': [0, 23]}]}, 'description': {'urls': []}}, 'protected': False, 'followers_count': 371, 'friends_count': 1463, 'listed_count': 16, 'created_at': 'Sat Aug 17 21:15:22 +0000 2013', 'favourites_count': 24938, 'utc_offset': None, 'time_zone': None, 'geo_enabled': False, 'verified': False, 'statuses_count': 37314, 'lang': None, 'contributors_enabled': False, 'is_translator': False, 'is_translation_enabled': False, 'profile_background_color': '709397', 'profile_background_image_url': 'http://abs.twimg.com/images/themes/theme6/bg.gif', 'profile_background_image_url_https': 'https://abs.twimg.com/images/themes/theme6/bg.gif', 'profile_background_tile': False, 'profile_image_url': 'http://pbs.twimg.com/profile_images/1119700445763702785/ROY734Fw_normal.jpg', 'profile_image_url_https': 'https://pbs.twimg.com/profile_images/1119700445763702785/ROY734Fw_normal.jpg', 'profile_banner_url': 'https://pbs.twimg.com/profile_banners/1679188633/1622302832', 'profile_link_color': 'B6D4BD', 'profile_sidebar_border_color': '86A4A6', 'profile_sidebar_fill_color': 'A0C5C7', 'profile_text_color': '333333', 'profile_use_background_image': True, 'has_extended_profile': True, 'default_profile': False, 'default_profile_image': False, 'following': None, 'follow_request_sent': None, 'notifications': None, 'translator_type': 'none', 'withheld_in_countries': []}, 'geo': None, 'coordinates': None, 'place': None, 'contributors': None, 'is_quote_status': False, 'retweet_count': 0, 'favorite_count': 2, 'favorited': False, 'retweeted': False, 'lang': 'en'}, {'created_at': 'Wed Sep 22 19:41:07 +0000 2021', 'id': 1440763108369186818, 'id_str': '1440763108369186818', 'text': '$AGY #Allergy Therapeutics PLC Allergy Therapeutics: VLP Peanut heading towards US Phase I studies: Allergy Therape… https://t.co/6gEQL5RFwA', 'truncated': True, 'entities': {'hashtags': [{'text': 'Allergy', 'indices': [5, 13]}], 'symbols': [{'text': 'AGY', 'indices': [0, 4]}], 'user_mentions': [], 'urls': [{'url': 'https://t.co/6gEQL5RFwA', 'expanded_url': 'https://twitter.com/i/web/status/1440763108369186818', 'display_url': 'twitter.com/i/web/status/1…', 'indices': [117, 140]}]}, 'metadata': {'iso_language_code': 'en', 'result_type': 'recent'}, 'source': '<a href=\"https://dlvrit.com/\" rel=\"nofollow\">dlvr.it</a>', 'in_reply_to_status_id': None, 'in_reply_to_status_id_str': None, 'in_reply_to_user_id': None, 'in_reply_to_user_id_str': None, 'in_reply_to_screen_name': None, 'user': {'id': 3068641671, 'id_str': '3068641671', 'name': 'ResearchPool', 'screen_name': 'ResearchPool', 'location': 'Paris, France', 'description': '@ResearchPool helps the buy-side, sell-side and corporates discover research quickly, streamline workflows and broaden distribution.  #valuingknowledge', 'url': 'https://t.co/2iuyUSt5wg', 'entities': {'url': {'urls': [{'url': 'https://t.co/2iuyUSt5wg', 'expanded_url': 'https://researchpool.com/', 'display_url': 'researchpool.com', 'indices': [0, 23]}]}, 'description': {'urls': []}}, 'protected': False, 'followers_count': 8910, 'friends_count': 4240, 'listed_count': 358, 'created_at': 'Tue Mar 03 22:15:05 +0000 2015', 'favourites_count': 428, 'utc_offset': None, 'time_zone': None, 'geo_enabled': False, 'verified': False, 'statuses_count': 400012, 'lang': None, 'contributors_enabled': False, 'is_translator': False, 'is_translation_enabled': False, 'profile_background_color': 'C0DEED', 'profile_background_image_url': 'http://abs.twimg.com/images/themes/theme1/bg.png', 'profile_background_image_url_https': 'https://abs.twimg.com/images/themes/theme1/bg.png', 'profile_background_tile': False, 'profile_image_url': 'http://pbs.twimg.com/profile_images/932829644558016512/Godn_LkX_normal.jpg', 'profile_image_url_https': 'https://pbs.twimg.com/profile_images/932829644558016512/Godn_LkX_normal.jpg', 'profile_banner_url': 'https://pbs.twimg.com/profile_banners/3068641671/1576843972', 'profile_link_color': '1DA1F2', 'profile_sidebar_border_color': 'C0DEED', 'profile_sidebar_fill_color': 'DDEEF6', 'profile_text_color': '333333', 'profile_use_background_image': True, 'has_extended_profile': False, 'default_profile': True, 'default_profile_image': False, 'following': None, 'follow_request_sent': None, 'notifications': None, 'translator_type': 'none', 'withheld_in_countries': []}, 'geo': None, 'coordinates': None, 'place': None, 'contributors': None, 'is_quote_status': False, 'retweet_count': 0, 'favorite_count': 0, 'favorited': False, 'retweeted': False, 'possibly_sensitive': False, 'lang': 'en'}, {'created_at': 'Wed Sep 22 17:08:12 +0000 2021', 'id': 1440724623436369928, 'id_str': '1440724623436369928', 'text': '@polycomplexity @VP @POTUS reaction. Allergic reactions can happen to anyone for any reason(peanut allergies are a… https://t.co/6ZZyKAdngH', 'truncated': True, 'entities': {'hashtags': [], 'symbols': [], 'user_mentions': [{'screen_name': 'polycomplexity', 'name': 'Juniper', 'id': 1366781780, 'id_str': '1366781780', 'indices': [0, 15]}, {'screen_name': 'VP', 'name': 'Vice President Kamala Harris', 'id': 803694179079458816, 'id_str': '803694179079458816', 'indices': [16, 19]}, {'screen_name': 'POTUS', 'name': 'President Biden', 'id': 1349149096909668363, 'id_str': '1349149096909668363', 'indices': [20, 26]}], 'urls': [{'url': 'https://t.co/6ZZyKAdngH', 'expanded_url': 'https://twitter.com/i/web/status/1440724623436369928', 'display_url': 'twitter.com/i/web/status/1…', 'indices': [116, 139]}]}, 'metadata': {'iso_language_code': 'en', 'result_type': 'recent'}, 'source': '<a href=\"http://twitter.com/download/android\" rel=\"nofollow\">Twitter for Android</a>', 'in_reply_to_status_id': 1434995082160050176, 'in_reply_to_status_id_str': '1434995082160050176', 'in_reply_to_user_id': 1366781780, 'in_reply_to_user_id_str': '1366781780', 'in_reply_to_screen_name': 'polycomplexity', 'user': {'id': 356577553, 'id_str': '356577553', 'name': 'vonnie gilbert', 'screen_name': 'vgilbert5084', 'location': 'portland', 'description': '', 'url': 'http://t.co/Ur9Rw8FPJA', 'entities': {'url': {'urls': [{'url': 'http://t.co/Ur9Rw8FPJA', 'expanded_url': 'http://google.com', 'display_url': 'google.com', 'indices': [0, 22]}]}, 'description': {'urls': []}}, 'protected': False, 'followers_count': 5, 'friends_count': 55, 'listed_count': 0, 'created_at': 'Wed Aug 17 02:04:21 +0000 2011', 'favourites_count': 186, 'utc_offset': None, 'time_zone': None, 'geo_enabled': False, 'verified': False, 'statuses_count': 65, 'lang': None, 'contributors_enabled': False, 'is_translator': False, 'is_translation_enabled': False, 'profile_background_color': 'C0DEED', 'profile_background_image_url': 'http://abs.twimg.com/images/themes/theme1/bg.png', 'profile_background_image_url_https': 'https://abs.twimg.com/images/themes/theme1/bg.png', 'profile_background_tile': False, 'profile_image_url': 'http://pbs.twimg.com/profile_images/1440720866292080647/YNFI5tnU_normal.jpg', 'profile_image_url_https': 'https://pbs.twimg.com/profile_images/1440720866292080647/YNFI5tnU_normal.jpg', 'profile_link_color': '1DA1F2', 'profile_sidebar_border_color': 'C0DEED', 'profile_sidebar_fill_color': 'DDEEF6', 'profile_text_color': '333333', 'profile_use_background_image': True, 'has_extended_profile': False, 'default_profile': True, 'default_profile_image': False, 'following': None, 'follow_request_sent': None, 'notifications': None, 'translator_type': 'none', 'withheld_in_countries': []}, 'geo': None, 'coordinates': None, 'place': None, 'contributors': None, 'is_quote_status': False, 'retweet_count': 0, 'favorite_count': 0, 'favorited': False, 'retweeted': False, 'lang': 'en'}, {'created_at': 'Wed Sep 22 02:39:37 +0000 2021', 'id': 1440506036331286538, 'id_str': '1440506036331286538', 'text': '@Kai2002z @ACME_Van @gabegutierrez @BillingsClinic The best one I heard was that she couldn’t get vaccinated becaus… https://t.co/bWkj5dye1U', 'truncated': True, 'entities': {'hashtags': [], 'symbols': [], 'user_mentions': [{'screen_name': 'Kai2002z', 'name': 'Kai Z', 'id': 1008731479864762373, 'id_str': '1008731479864762373', 'indices': [0, 9]}, {'screen_name': 'ACME_Van', 'name': 'Pinackull', 'id': 905495684589252608, 'id_str': '905495684589252608', 'indices': [10, 19]}, {'screen_name': 'gabegutierrez', 'name': 'Gabe Gutierrez', 'id': 29898052, 'id_str': '29898052', 'indices': [20, 34]}, {'screen_name': 'BillingsClinic', 'name': 'Billings Clinic', 'id': 17549736, 'id_str': '17549736', 'indices': [35, 50]}], 'urls': [{'url': 'https://t.co/bWkj5dye1U', 'expanded_url': 'https://twitter.com/i/web/status/1440506036331286538', 'display_url': 'twitter.com/i/web/status/1…', 'indices': [117, 140]}]}, 'metadata': {'iso_language_code': 'en', 'result_type': 'recent'}, 'source': '<a href=\"http://twitter.com/download/iphone\" rel=\"nofollow\">Twitter for iPhone</a>', 'in_reply_to_status_id': 1440474504866582529, 'in_reply_to_status_id_str': '1440474504866582529', 'in_reply_to_user_id': 1008731479864762373, 'in_reply_to_user_id_str': '1008731479864762373', 'in_reply_to_screen_name': 'Kai2002z', 'user': {'id': 1421321244939481091, 'id_str': '1421321244939481091', 'name': 'Blake P', 'screen_name': 'BlakeP36152368', 'location': '', 'description': '', 'url': None, 'entities': {'description': {'urls': []}}, 'protected': False, 'followers_count': 1, 'friends_count': 9, 'listed_count': 0, 'created_at': 'Sat Jul 31 04:06:38 +0000 2021', 'favourites_count': 483, 'utc_offset': None, 'time_zone': None, 'geo_enabled': False, 'verified': False, 'statuses_count': 43, 'lang': None, 'contributors_enabled': False, 'is_translator': False, 'is_translation_enabled': False, 'profile_background_color': 'F5F8FA', 'profile_background_image_url': None, 'profile_background_image_url_https': None, 'profile_background_tile': False, 'profile_image_url': 'http://pbs.twimg.com/profile_images/1421321380293857285/Z97ihYlZ_normal.jpg', 'profile_image_url_https': 'https://pbs.twimg.com/profile_images/1421321380293857285/Z97ihYlZ_normal.jpg', 'profile_link_color': '1DA1F2', 'profile_sidebar_border_color': 'C0DEED', 'profile_sidebar_fill_color': 'DDEEF6', 'profile_text_color': '333333', 'profile_use_background_image': True, 'has_extended_profile': True, 'default_profile': True, 'default_profile_image': False, 'following': None, 'follow_request_sent': None, 'notifications': None, 'translator_type': 'none', 'withheld_in_countries': []}, 'geo': None, 'coordinates': None, 'place': None, 'contributors': None, 'is_quote_status': False, 'retweet_count': 0, 'favorite_count': 3, 'favorited': False, 'retweeted': False, 'lang': 'en'}, {'created_at': 'Tue Sep 21 00:09:58 +0000 2021', 'id': 1440105988908933124, 'id_str': '1440105988908933124', 'text': 'RT @1LastRepublican: @Gitmo33 Anyone have an actual name of the child or any documentation of what really happened? \\nOr are we just suppose…', 'truncated': False, 'entities': {'hashtags': [], 'symbols': [], 'user_mentions': [{'screen_name': '1LastRepublican', 'name': 'SirK🇺🇸🌊', 'id': 739051014431608832, 'id_str': '739051014431608832', 'indices': [3, 19]}, {'screen_name': 'Gitmo33', 'name': 'NESARA - GESARA', 'id': 1319348404976259073, 'id_str': '1319348404976259073', 'indices': [21, 29]}], 'urls': []}, 'metadata': {'iso_language_code': 'en', 'result_type': 'recent'}, 'source': '<a href=\"https://mobile.twitter.com\" rel=\"nofollow\">Twitter Web App</a>', 'in_reply_to_status_id': None, 'in_reply_to_status_id_str': None, 'in_reply_to_user_id': None, 'in_reply_to_user_id_str': None, 'in_reply_to_screen_name': None, 'user': {'id': 1003010315397693440, 'id_str': '1003010315397693440', 'name': 'Jayne Intveld', 'screen_name': 'JayneLoganMxxx', 'location': 'Alberta, Canadian Rockies', 'description': '🍁 𝒞𝒶𝓃𝒶𝒹𝒶 𝒾𝓈 ℋℴ𝓂ℯ  🇨🇦  ɴᴏ ᴅᴍs \\n\\nTᴏ ᴀssɪɢɴ ᴀ ᴄʜᴀʀᴀᴄᴛᴇʀɪsᴛɪᴄ ᴛᴏ ᴀ ɢʀᴏᴜᴘ ʙᴀsᴇᴅ sᴏʟᴇʟʏ ᴏɴ sᴋɪɴ ᴄᴏʟᴏʀ ɪs ᴛʜᴇ ᴅᴇғɪɴɪᴛɪᴏɴ ᴏғ ʀᴀᴄɪsᴍ.', 'url': None, 'entities': {'description': {'urls': []}}, 'protected': False, 'followers_count': 958, 'friends_count': 1445, 'listed_count': 4, 'created_at': 'Sat Jun 02 20:27:49 +0000 2018', 'favourites_count': 11020, 'utc_offset': None, 'time_zone': None, 'geo_enabled': False, 'verified': False, 'statuses_count': 30277, 'lang': None, 'contributors_enabled': False, 'is_translator': False, 'is_translation_enabled': False, 'profile_background_color': '000000', 'profile_background_image_url': 'http://abs.twimg.com/images/themes/theme1/bg.png', 'profile_background_image_url_https': 'https://abs.twimg.com/images/themes/theme1/bg.png', 'profile_background_tile': False, 'profile_image_url': 'http://pbs.twimg.com/profile_images/1358689116473286658/HGID5tzJ_normal.jpg', 'profile_image_url_https': 'https://pbs.twimg.com/profile_images/1358689116473286658/HGID5tzJ_normal.jpg', 'profile_banner_url': 'https://pbs.twimg.com/profile_banners/1003010315397693440/1631754184', 'profile_link_color': 'FAB81E', 'profile_sidebar_border_color': '000000', 'profile_sidebar_fill_color': '000000', 'profile_text_color': '000000', 'profile_use_background_image': False, 'has_extended_profile': False, 'default_profile': False, 'default_profile_image': False, 'following': None, 'follow_request_sent': None, 'notifications': None, 'translator_type': 'none', 'withheld_in_countries': []}, 'geo': None, 'coordinates': None, 'place': None, 'contributors': None, 'retweeted_status': {'created_at': 'Mon Sep 20 14:16:26 +0000 2021', 'id': 1439956622307069952, 'id_str': '1439956622307069952', 'text': '@Gitmo33 Anyone have an actual name of the child or any documentation of what really happened? \\nOr are we just supp… https://t.co/fhOoo9A4SI', 'truncated': True, 'entities': {'hashtags': [], 'symbols': [], 'user_mentions': [{'screen_name': 'Gitmo33', 'name': 'NESARA - GESARA', 'id': 1319348404976259073, 'id_str': '1319348404976259073', 'indices': [0, 8]}], 'urls': [{'url': 'https://t.co/fhOoo9A4SI', 'expanded_url': 'https://twitter.com/i/web/status/1439956622307069952', 'display_url': 'twitter.com/i/web/status/1…', 'indices': [117, 140]}]}, 'metadata': {'iso_language_code': 'en', 'result_type': 'recent'}, 'source': '<a href=\"http://twitter.com/download/android\" rel=\"nofollow\">Twitter for Android</a>', 'in_reply_to_status_id': 1439953073003184128, 'in_reply_to_status_id_str': '1439953073003184128', 'in_reply_to_user_id': 1319348404976259073, 'in_reply_to_user_id_str': '1319348404976259073', 'in_reply_to_screen_name': 'Gitmo33', 'user': {'id': 739051014431608832, 'id_str': '739051014431608832', 'name': 'SirK🇺🇸🌊', 'screen_name': '1LastRepublican', 'location': 'USA', 'description': 'Still registered as Republican, but the Grand Old Party no longer exists. Sadly it was hijacked by extremists😨\\nLiked Eisenhower, Nixon, Ford, Reagan & Bush Sr.', 'url': None, 'entities': {'description': {'urls': []}}, 'protected': False, 'followers_count': 669, 'friends_count': 564, 'listed_count': 10, 'created_at': 'Sat Jun 04 11:07:47 +0000 2016', 'favourites_count': 81256, 'utc_offset': None, 'time_zone': None, 'geo_enabled': False, 'verified': False, 'statuses_count': 38308, 'lang': None, 'contributors_enabled': False, 'is_translator': False, 'is_translation_enabled': False, 'profile_background_color': 'F5F8FA', 'profile_background_image_url': None, 'profile_background_image_url_https': None, 'profile_background_tile': False, 'profile_image_url': 'http://pbs.twimg.com/profile_images/1224859961236316162/LQaPdTIN_normal.jpg', 'profile_image_url_https': 'https://pbs.twimg.com/profile_images/1224859961236316162/LQaPdTIN_normal.jpg', 'profile_banner_url': 'https://pbs.twimg.com/profile_banners/739051014431608832/1579180803', 'profile_link_color': '1DA1F2', 'profile_sidebar_border_color': 'C0DEED', 'profile_sidebar_fill_color': 'DDEEF6', 'profile_text_color': '333333', 'profile_use_background_image': True, 'has_extended_profile': False, 'default_profile': True, 'default_profile_image': False, 'following': None, 'follow_request_sent': None, 'notifications': None, 'translator_type': 'none', 'withheld_in_countries': []}, 'geo': None, 'coordinates': None, 'place': None, 'contributors': None, 'is_quote_status': False, 'retweet_count': 1, 'favorite_count': 27, 'favorited': False, 'retweeted': False, 'lang': 'en'}, 'is_quote_status': False, 'retweet_count': 1, 'favorite_count': 0, 'favorited': False, 'retweeted': False, 'lang': 'en'}, {'created_at': 'Mon Sep 20 14:16:26 +0000 2021', 'id': 1439956622307069952, 'id_str': '1439956622307069952', 'text': '@Gitmo33 Anyone have an actual name of the child or any documentation of what really happened? \\nOr are we just supp… https://t.co/fhOoo9A4SI', 'truncated': True, 'entities': {'hashtags': [], 'symbols': [], 'user_mentions': [{'screen_name': 'Gitmo33', 'name': 'NESARA - GESARA', 'id': 1319348404976259073, 'id_str': '1319348404976259073', 'indices': [0, 8]}], 'urls': [{'url': 'https://t.co/fhOoo9A4SI', 'expanded_url': 'https://twitter.com/i/web/status/1439956622307069952', 'display_url': 'twitter.com/i/web/status/1…', 'indices': [117, 140]}]}, 'metadata': {'iso_language_code': 'en', 'result_type': 'recent'}, 'source': '<a href=\"http://twitter.com/download/android\" rel=\"nofollow\">Twitter for Android</a>', 'in_reply_to_status_id': 1439953073003184128, 'in_reply_to_status_id_str': '1439953073003184128', 'in_reply_to_user_id': 1319348404976259073, 'in_reply_to_user_id_str': '1319348404976259073', 'in_reply_to_screen_name': 'Gitmo33', 'user': {'id': 739051014431608832, 'id_str': '739051014431608832', 'name': 'SirK🇺🇸🌊', 'screen_name': '1LastRepublican', 'location': 'USA', 'description': 'Still registered as Republican, but the Grand Old Party no longer exists. Sadly it was hijacked by extremists😨\\nLiked Eisenhower, Nixon, Ford, Reagan & Bush Sr.', 'url': None, 'entities': {'description': {'urls': []}}, 'protected': False, 'followers_count': 669, 'friends_count': 564, 'listed_count': 10, 'created_at': 'Sat Jun 04 11:07:47 +0000 2016', 'favourites_count': 81256, 'utc_offset': None, 'time_zone': None, 'geo_enabled': False, 'verified': False, 'statuses_count': 38308, 'lang': None, 'contributors_enabled': False, 'is_translator': False, 'is_translation_enabled': False, 'profile_background_color': 'F5F8FA', 'profile_background_image_url': None, 'profile_background_image_url_https': None, 'profile_background_tile': False, 'profile_image_url': 'http://pbs.twimg.com/profile_images/1224859961236316162/LQaPdTIN_normal.jpg', 'profile_image_url_https': 'https://pbs.twimg.com/profile_images/1224859961236316162/LQaPdTIN_normal.jpg', 'profile_banner_url': 'https://pbs.twimg.com/profile_banners/739051014431608832/1579180803', 'profile_link_color': '1DA1F2', 'profile_sidebar_border_color': 'C0DEED', 'profile_sidebar_fill_color': 'DDEEF6', 'profile_text_color': '333333', 'profile_use_background_image': True, 'has_extended_profile': False, 'default_profile': True, 'default_profile_image': False, 'following': None, 'follow_request_sent': None, 'notifications': None, 'translator_type': 'none', 'withheld_in_countries': []}, 'geo': None, 'coordinates': None, 'place': None, 'contributors': None, 'is_quote_status': False, 'retweet_count': 1, 'favorite_count': 27, 'favorited': False, 'retweeted': False, 'lang': 'en'}, {'created_at': 'Mon Sep 20 14:05:10 +0000 2021', 'id': 1439953785049157632, 'id_str': '1439953785049157632', 'text': '@laurahelmuth @sciam I know there’s a vaccine for peanut allergies now (I don’t have a peanut allergy), I’m despera… https://t.co/3gEycI4gUn', 'truncated': True, 'entities': {'hashtags': [], 'symbols': [], 'user_mentions': [{'screen_name': 'laurahelmuth', 'name': 'Laura Helmuth', 'id': 182839127, 'id_str': '182839127', 'indices': [0, 13]}, {'screen_name': 'sciam', 'name': 'Scientific American', 'id': 14647570, 'id_str': '14647570', 'indices': [14, 20]}], 'urls': [{'url': 'https://t.co/3gEycI4gUn', 'expanded_url': 'https://twitter.com/i/web/status/1439953785049157632', 'display_url': 'twitter.com/i/web/status/1…', 'indices': [117, 140]}]}, 'metadata': {'iso_language_code': 'en', 'result_type': 'recent'}, 'source': '<a href=\"http://twitter.com/download/iphone\" rel=\"nofollow\">Twitter for iPhone</a>', 'in_reply_to_status_id': 1439935145138606080, 'in_reply_to_status_id_str': '1439935145138606080', 'in_reply_to_user_id': 182839127, 'in_reply_to_user_id_str': '182839127', 'in_reply_to_screen_name': 'laurahelmuth', 'user': {'id': 136139839, 'id_str': '136139839', 'name': 'Rebecca J. Riley✌', 'screen_name': 'rebeccariley23', 'location': 'Somewhere on Earth (or Saturn)', 'description': \"♦️ I'm not the Queen of Hearts, I'm the Ace of Diamonds! ♦️ She/her\", 'url': None, 'entities': {'description': {'urls': []}}, 'protected': False, 'followers_count': 449, 'friends_count': 2455, 'listed_count': 16, 'created_at': 'Fri Apr 23 03:48:44 +0000 2010', 'favourites_count': 106068, 'utc_offset': None, 'time_zone': None, 'geo_enabled': True, 'verified': False, 'statuses_count': 34692, 'lang': None, 'contributors_enabled': False, 'is_translator': False, 'is_translation_enabled': False, 'profile_background_color': 'DADDC0', 'profile_background_image_url': 'http://abs.twimg.com/images/themes/theme2/bg.gif', 'profile_background_image_url_https': 'https://abs.twimg.com/images/themes/theme2/bg.gif', 'profile_background_tile': False, 'profile_image_url': 'http://pbs.twimg.com/profile_images/729201317814489088/toq8el3s_normal.jpg', 'profile_image_url_https': 'https://pbs.twimg.com/profile_images/729201317814489088/toq8el3s_normal.jpg', 'profile_banner_url': 'https://pbs.twimg.com/profile_banners/136139839/1462501538', 'profile_link_color': '1B95E0', 'profile_sidebar_border_color': 'E2EAEF', 'profile_sidebar_fill_color': 'E2EAEF', 'profile_text_color': '877F63', 'profile_use_background_image': True, 'has_extended_profile': True, 'default_profile': False, 'default_profile_image': False, 'following': None, 'follow_request_sent': None, 'notifications': None, 'translator_type': 'none', 'withheld_in_countries': []}, 'geo': None, 'coordinates': None, 'place': None, 'contributors': None, 'is_quote_status': False, 'retweet_count': 0, 'favorite_count': 1, 'favorited': False, 'retweeted': False, 'lang': 'en'}, {'created_at': 'Sat Sep 18 21:39:05 +0000 2021', 'id': 1439343241250295809, 'id_str': '1439343241250295809', 'text': \"@infamouse11 @kaki385 $100 bucks they won't record it as a Covid vaccine death...probably reported as  a peanut allergy\", 'truncated': False, 'entities': {'hashtags': [], 'symbols': [], 'user_mentions': [{'screen_name': 'infamouse11', 'name': 'Infamous E', 'id': 1309978227826253824, 'id_str': '1309978227826253824', 'indices': [0, 12]}, {'screen_name': 'kaki385', 'name': 'chicklet', 'id': 1227683970881441794, 'id_str': '1227683970881441794', 'indices': [13, 21]}], 'urls': []}, 'metadata': {'iso_language_code': 'en', 'result_type': 'recent'}, 'source': '<a href=\"http://twitter.com/download/android\" rel=\"nofollow\">Twitter for Android</a>', 'in_reply_to_status_id': 1439340535337078788, 'in_reply_to_status_id_str': '1439340535337078788', 'in_reply_to_user_id': 1309978227826253824, 'in_reply_to_user_id_str': '1309978227826253824', 'in_reply_to_screen_name': 'infamouse11', 'user': {'id': 3930608896, 'id_str': '3930608896', 'name': 'Justin Houston', 'screen_name': 'FinsUpSailor', 'location': 'I live on Freehold Land', 'description': 'Stop Systemic Sustainability and\\nBe kind to animals! \\nNo violence\\nNo racism\\nNo Trudeau\\nIf you ask for a source ..blocked', 'url': None, 'entities': {'description': {'urls': []}}, 'protected': False, 'followers_count': 2238, 'friends_count': 2269, 'listed_count': 13, 'created_at': 'Sun Oct 11 19:48:41 +0000 2015', 'favourites_count': 19058, 'utc_offset': None, 'time_zone': None, 'geo_enabled': False, 'verified': False, 'statuses_count': 81636, 'lang': None, 'contributors_enabled': False, 'is_translator': False, 'is_translation_enabled': False, 'profile_background_color': 'C0DEED', 'profile_background_image_url': 'http://abs.twimg.com/images/themes/theme1/bg.png', 'profile_background_image_url_https': 'https://abs.twimg.com/images/themes/theme1/bg.png', 'profile_background_tile': False, 'profile_image_url': 'http://pbs.twimg.com/profile_images/1296142021048987648/oOqET585_normal.jpg', 'profile_image_url_https': 'https://pbs.twimg.com/profile_images/1296142021048987648/oOqET585_normal.jpg', 'profile_banner_url': 'https://pbs.twimg.com/profile_banners/3930608896/1571626548', 'profile_link_color': '1DA1F2', 'profile_sidebar_border_color': 'C0DEED', 'profile_sidebar_fill_color': 'DDEEF6', 'profile_text_color': '333333', 'profile_use_background_image': True, 'has_extended_profile': False, 'default_profile': True, 'default_profile_image': False, 'following': None, 'follow_request_sent': None, 'notifications': None, 'translator_type': 'none', 'withheld_in_countries': []}, 'geo': None, 'coordinates': None, 'place': None, 'contributors': None, 'is_quote_status': False, 'retweet_count': 0, 'favorite_count': 7, 'favorited': False, 'retweeted': False, 'lang': 'en'}, {'created_at': 'Sat Sep 18 14:21:27 +0000 2021', 'id': 1439233108474171396, 'id_str': '1439233108474171396', 'text': \"@DiamondandSilk It's so funny u mentioned peanut allergy. And u know the sad shit about that people don't even beli… https://t.co/bUtHqL9ASP\", 'truncated': True, 'entities': {'hashtags': [], 'symbols': [], 'user_mentions': [{'screen_name': 'DiamondandSilk', 'name': 'Diamond and Silk®', 'id': 2908170952, 'id_str': '2908170952', 'indices': [0, 15]}], 'urls': [{'url': 'https://t.co/bUtHqL9ASP', 'expanded_url': 'https://twitter.com/i/web/status/1439233108474171396', 'display_url': 'twitter.com/i/web/status/1…', 'indices': [117, 140]}]}, 'metadata': {'iso_language_code': 'en', 'result_type': 'recent'}, 'source': '<a href=\"https://mobile.twitter.com\" rel=\"nofollow\">Twitter Web App</a>', 'in_reply_to_status_id': 1439031904246943745, 'in_reply_to_status_id_str': '1439031904246943745', 'in_reply_to_user_id': 2908170952, 'in_reply_to_user_id_str': '2908170952', 'in_reply_to_screen_name': 'DiamondandSilk', 'user': {'id': 62651196, 'id_str': '62651196', 'name': '𝕵azz🏁', 'screen_name': 'Jazzylude', 'location': 'Killa Cali 909 x 310', 'description': \"R u Rollin?! Motha 2 Nasyr ناصر my first x only.. I love music I don't talk bout nothin else!\", 'url': None, 'entities': {'description': {'urls': []}}, 'protected': False, 'followers_count': 1337, 'friends_count': 1903, 'listed_count': 29, 'created_at': 'Mon Aug 03 23:18:17 +0000 2009', 'favourites_count': 12230, 'utc_offset': None, 'time_zone': None, 'geo_enabled': False, 'verified': False, 'statuses_count': 85337, 'lang': None, 'contributors_enabled': False, 'is_translator': False, 'is_translation_enabled': False, 'profile_background_color': '000000', 'profile_background_image_url': 'http://abs.twimg.com/images/themes/theme14/bg.gif', 'profile_background_image_url_https': 'https://abs.twimg.com/images/themes/theme14/bg.gif', 'profile_background_tile': True, 'profile_image_url': 'http://pbs.twimg.com/profile_images/1423706101665599488/wmYVfwtu_normal.jpg', 'profile_image_url_https': 'https://pbs.twimg.com/profile_images/1423706101665599488/wmYVfwtu_normal.jpg', 'profile_banner_url': 'https://pbs.twimg.com/profile_banners/62651196/1489439576', 'profile_link_color': 'C42020', 'profile_sidebar_border_color': '000000', 'profile_sidebar_fill_color': '000000', 'profile_text_color': '7A797A', 'profile_use_background_image': True, 'has_extended_profile': True, 'default_profile': False, 'default_profile_image': False, 'following': None, 'follow_request_sent': None, 'notifications': None, 'translator_type': 'none', 'withheld_in_countries': []}, 'geo': None, 'coordinates': None, 'place': None, 'contributors': None, 'is_quote_status': False, 'retweet_count': 0, 'favorite_count': 0, 'favorited': False, 'retweeted': False, 'lang': 'en'}, {'created_at': 'Sat Sep 18 11:36:29 +0000 2021', 'id': 1439191595857891335, 'id_str': '1439191595857891335', 'text': '@DrP_MD \\nChristine C suggested I contact you. My son has a peanut allergy. We were told he should not have this Cov… https://t.co/TsnYH2OW3s', 'truncated': True, 'entities': {'hashtags': [], 'symbols': [], 'user_mentions': [{'screen_name': 'DrP_MD', 'name': 'Patrick Phillips MD', 'id': 1292648077417947136, 'id_str': '1292648077417947136', 'indices': [0, 7]}], 'urls': [{'url': 'https://t.co/TsnYH2OW3s', 'expanded_url': 'https://twitter.com/i/web/status/1439191595857891335', 'display_url': 'twitter.com/i/web/status/1…', 'indices': [117, 140]}]}, 'metadata': {'iso_language_code': 'en', 'result_type': 'recent'}, 'source': '<a href=\"http://twitter.com/#!/download/ipad\" rel=\"nofollow\">Twitter for iPad</a>', 'in_reply_to_status_id': None, 'in_reply_to_status_id_str': None, 'in_reply_to_user_id': 1292648077417947136, 'in_reply_to_user_id_str': '1292648077417947136', 'in_reply_to_screen_name': 'DrP_MD', 'user': {'id': 26603313, 'id_str': '26603313', 'name': 'Theresa Taillefer', 'screen_name': 'Treesaw18', 'location': '', 'description': 'Business owner', 'url': None, 'entities': {'description': {'urls': []}}, 'protected': False, 'followers_count': 10, 'friends_count': 62, 'listed_count': 0, 'created_at': 'Wed Mar 25 21:58:04 +0000 2009', 'favourites_count': 46, 'utc_offset': None, 'time_zone': None, 'geo_enabled': False, 'verified': False, 'statuses_count': 128, 'lang': None, 'contributors_enabled': False, 'is_translator': False, 'is_translation_enabled': False, 'profile_background_color': 'C0DEED', 'profile_background_image_url': 'http://abs.twimg.com/images/themes/theme1/bg.png', 'profile_background_image_url_https': 'https://abs.twimg.com/images/themes/theme1/bg.png', 'profile_background_tile': False, 'profile_image_url': 'http://pbs.twimg.com/profile_images/378800000276764796/2ee448b640a3c125c4dbb94a119f2f98_normal.jpeg', 'profile_image_url_https': 'https://pbs.twimg.com/profile_images/378800000276764796/2ee448b640a3c125c4dbb94a119f2f98_normal.jpeg', 'profile_link_color': '1DA1F2', 'profile_sidebar_border_color': 'C0DEED', 'profile_sidebar_fill_color': 'DDEEF6', 'profile_text_color': '333333', 'profile_use_background_image': True, 'has_extended_profile': False, 'default_profile': True, 'default_profile_image': False, 'following': None, 'follow_request_sent': None, 'notifications': None, 'translator_type': 'none', 'withheld_in_countries': []}, 'geo': None, 'coordinates': None, 'place': None, 'contributors': None, 'is_quote_status': False, 'retweet_count': 0, 'favorite_count': 0, 'favorited': False, 'retweeted': False, 'lang': 'en'}, {'created_at': 'Sat Sep 18 02:05:31 +0000 2021', 'id': 1439047903780167684, 'id_str': '1439047903780167684', 'text': 'RT @pentony: @pattiefoto The peanut allergy that currently can kill many is as curable with the Covid vaccine as Covid is.', 'truncated': False, 'entities': {'hashtags': [], 'symbols': [], 'user_mentions': [{'screen_name': 'pentony', 'name': 'Jake', 'id': 14533791, 'id_str': '14533791', 'indices': [3, 11]}, {'screen_name': 'pattiefoto', 'name': '-- pattiefoto', 'id': 217903989, 'id_str': '217903989', 'indices': [13, 24]}], 'urls': []}, 'metadata': {'iso_language_code': 'en', 'result_type': 'recent'}, 'source': '<a href=\"http://twitter.com/download/android\" rel=\"nofollow\">Twitter for Android</a>', 'in_reply_to_status_id': None, 'in_reply_to_status_id_str': None, 'in_reply_to_user_id': None, 'in_reply_to_user_id_str': None, 'in_reply_to_screen_name': None, 'user': {'id': 1266834866135601153, 'id_str': '1266834866135601153', 'name': 'TK 🇺🇸🇺🇸🇺🇸', 'screen_name': 'Kreutzjr1', 'location': 'NC', 'description': 'Son, Husband, Father, learning every day', 'url': None, 'entities': {'description': {'urls': []}}, 'protected': False, 'followers_count': 532, 'friends_count': 129, 'listed_count': 1, 'created_at': 'Sat May 30 20:52:37 +0000 2020', 'favourites_count': 151000, 'utc_offset': None, 'time_zone': None, 'geo_enabled': False, 'verified': False, 'statuses_count': 55752, 'lang': None, 'contributors_enabled': False, 'is_translator': False, 'is_translation_enabled': False, 'profile_background_color': 'F5F8FA', 'profile_background_image_url': None, 'profile_background_image_url_https': None, 'profile_background_tile': False, 'profile_image_url': 'http://pbs.twimg.com/profile_images/1345375161948790788/dyuE3FB-_normal.jpg', 'profile_image_url_https': 'https://pbs.twimg.com/profile_images/1345375161948790788/dyuE3FB-_normal.jpg', 'profile_banner_url': 'https://pbs.twimg.com/profile_banners/1266834866135601153/1608836470', 'profile_link_color': '1DA1F2', 'profile_sidebar_border_color': 'C0DEED', 'profile_sidebar_fill_color': 'DDEEF6', 'profile_text_color': '333333', 'profile_use_background_image': True, 'has_extended_profile': True, 'default_profile': True, 'default_profile_image': False, 'following': None, 'follow_request_sent': None, 'notifications': None, 'translator_type': 'none', 'withheld_in_countries': []}, 'geo': None, 'coordinates': None, 'place': None, 'contributors': None, 'retweeted_status': {'created_at': 'Fri Sep 17 21:27:09 +0000 2021', 'id': 1438977850846158854, 'id_str': '1438977850846158854', 'text': '@pattiefoto The peanut allergy that currently can kill many is as curable with the Covid vaccine as Covid is.', 'truncated': False, 'entities': {'hashtags': [], 'symbols': [], 'user_mentions': [{'screen_name': 'pattiefoto', 'name': '-- pattiefoto', 'id': 217903989, 'id_str': '217903989', 'indices': [0, 11]}], 'urls': []}, 'metadata': {'iso_language_code': 'en', 'result_type': 'recent'}, 'source': '<a href=\"http://twitter.com/download/iphone\" rel=\"nofollow\">Twitter for iPhone</a>', 'in_reply_to_status_id': 1438977221985775627, 'in_reply_to_status_id_str': '1438977221985775627', 'in_reply_to_user_id': 217903989, 'in_reply_to_user_id_str': '217903989', 'in_reply_to_screen_name': 'pattiefoto', 'user': {'id': 14533791, 'id_str': '14533791', 'name': 'Jake', 'screen_name': 'pentony', 'location': 'America', 'description': '#FJB', 'url': None, 'entities': {'description': {'urls': []}}, 'protected': False, 'followers_count': 2558, 'friends_count': 2707, 'listed_count': 2, 'created_at': 'Fri Apr 25 20:35:13 +0000 2008', 'favourites_count': 6673, 'utc_offset': None, 'time_zone': None, 'geo_enabled': False, 'verified': False, 'statuses_count': 39063, 'lang': None, 'contributors_enabled': False, 'is_translator': False, 'is_translation_enabled': False, 'profile_background_color': 'C0DEED', 'profile_background_image_url': 'http://abs.twimg.com/images/themes/theme1/bg.png', 'profile_background_image_url_https': 'https://abs.twimg.com/images/themes/theme1/bg.png', 'profile_background_tile': False, 'profile_image_url': 'http://pbs.twimg.com/profile_images/1405749358256017417/PBHj_thj_normal.jpg', 'profile_image_url_https': 'https://pbs.twimg.com/profile_images/1405749358256017417/PBHj_thj_normal.jpg', 'profile_banner_url': 'https://pbs.twimg.com/profile_banners/14533791/1610331466', 'profile_link_color': '1DA1F2', 'profile_sidebar_border_color': 'C0DEED', 'profile_sidebar_fill_color': 'DDEEF6', 'profile_text_color': '333333', 'profile_use_background_image': True, 'has_extended_profile': False, 'default_profile': True, 'default_profile_image': False, 'following': None, 'follow_request_sent': None, 'notifications': None, 'translator_type': 'none', 'withheld_in_countries': []}, 'geo': None, 'coordinates': None, 'place': None, 'contributors': None, 'is_quote_status': False, 'retweet_count': 1, 'favorite_count': 1, 'favorited': False, 'retweeted': False, 'lang': 'en'}, 'is_quote_status': False, 'retweet_count': 1, 'favorite_count': 0, 'favorited': False, 'retweeted': False, 'lang': 'en'}, {'created_at': 'Fri Sep 17 21:58:36 +0000 2021', 'id': 1438985764960980993, 'id_str': '1438985764960980993', 'text': '@RobbyDuzIt @i_think_1st @maddow Even better; if there were a vaccine you could give babies to prevent *almost* all… https://t.co/dH7NHjVVJI', 'truncated': True, 'entities': {'hashtags': [], 'symbols': [], 'user_mentions': [{'screen_name': 'RobbyDuzIt', 'name': 'Robby', 'id': 37246522, 'id_str': '37246522', 'indices': [0, 11]}, {'screen_name': 'i_think_1st', 'name': 'Love To Debate', 'id': 826256978234179584, 'id_str': '826256978234179584', 'indices': [12, 24]}, {'screen_name': 'maddow', 'name': 'Rachel Maddow MSNBC', 'id': 16129920, 'id_str': '16129920', 'indices': [25, 32]}], 'urls': [{'url': 'https://t.co/dH7NHjVVJI', 'expanded_url': 'https://twitter.com/i/web/status/1438985764960980993', 'display_url': 'twitter.com/i/web/status/1…', 'indices': [117, 140]}]}, 'metadata': {'iso_language_code': 'en', 'result_type': 'recent'}, 'source': '<a href=\"http://twitter.com/download/android\" rel=\"nofollow\">Twitter for Android</a>', 'in_reply_to_status_id': 1438958283889381376, 'in_reply_to_status_id_str': '1438958283889381376', 'in_reply_to_user_id': 37246522, 'in_reply_to_user_id_str': '37246522', 'in_reply_to_screen_name': 'RobbyDuzIt', 'user': {'id': 16938646, 'id_str': '16938646', 'name': 'Brandy Leigh (Heinze) Hoover', 'screen_name': 'YourLyric', 'location': 'Morgantown, WV', 'description': 'Noun: BRAN-dee; Deeply Liberal views and opinions. Therefore, in the USA? A valueless human life. A person of little to no worth.', 'url': None, 'entities': {'description': {'urls': []}}, 'protected': False, 'followers_count': 117, 'friends_count': 97, 'listed_count': 5, 'created_at': 'Thu Oct 23 23:20:59 +0000 2008', 'favourites_count': 352, 'utc_offset': None, 'time_zone': None, 'geo_enabled': True, 'verified': False, 'statuses_count': 1218, 'lang': None, 'contributors_enabled': False, 'is_translator': False, 'is_translation_enabled': False, 'profile_background_color': '000000', 'profile_background_image_url': 'http://abs.twimg.com/images/themes/theme1/bg.png', 'profile_background_image_url_https': 'https://abs.twimg.com/images/themes/theme1/bg.png', 'profile_background_tile': False, 'profile_image_url': 'http://pbs.twimg.com/profile_images/1402225723579027458/Ug85Be6n_normal.jpg', 'profile_image_url_https': 'https://pbs.twimg.com/profile_images/1402225723579027458/Ug85Be6n_normal.jpg', 'profile_banner_url': 'https://pbs.twimg.com/profile_banners/16938646/1623151684', 'profile_link_color': '3491D9', 'profile_sidebar_border_color': '000000', 'profile_sidebar_fill_color': '000000', 'profile_text_color': '000000', 'profile_use_background_image': False, 'has_extended_profile': True, 'default_profile': False, 'default_profile_image': False, 'following': None, 'follow_request_sent': None, 'notifications': None, 'translator_type': 'none', 'withheld_in_countries': []}, 'geo': None, 'coordinates': None, 'place': None, 'contributors': None, 'is_quote_status': False, 'retweet_count': 0, 'favorite_count': 2, 'favorited': False, 'retweeted': False, 'lang': 'en'}, {'created_at': 'Fri Sep 17 21:30:42 +0000 2021', 'id': 1438978744538992642, 'id_str': '1438978744538992642', 'text': '@truth_mry @NICKIMINAJ Your \"thousands\" don\\'t out-weigh the MILLIONS the vaccine has saved doe. Basically saying PE… https://t.co/5QNDebIePw', 'truncated': True, 'entities': {'hashtags': [], 'symbols': [], 'user_mentions': [{'screen_name': 'truth_mry', 'name': 'use your brain - QUESTION EVERYTHING ❤️💊✨☮️', 'id': 17216221, 'id_str': '17216221', 'indices': [0, 10]}, {'screen_name': 'NICKIMINAJ', 'name': 'Nicki Minaj', 'id': 35787166, 'id_str': '35787166', 'indices': [11, 22]}], 'urls': [{'url': 'https://t.co/5QNDebIePw', 'expanded_url': 'https://twitter.com/i/web/status/1438978744538992642', 'display_url': 'twitter.com/i/web/status/1…', 'indices': [117, 140]}]}, 'metadata': {'iso_language_code': 'en', 'result_type': 'recent'}, 'source': '<a href=\"https://mobile.twitter.com\" rel=\"nofollow\">Twitter Web App</a>', 'in_reply_to_status_id': 1438978248814125057, 'in_reply_to_status_id_str': '1438978248814125057', 'in_reply_to_user_id': 17216221, 'in_reply_to_user_id_str': '17216221', 'in_reply_to_screen_name': 'truth_mry', 'user': {'id': 211022939, 'id_str': '211022939', 'name': 'Dae 🎃', 'screen_name': 'DJOceans', 'location': 'LOS', 'description': 'Lakers/Rams/Dodgers 💜💛💙', 'url': None, 'entities': {'description': {'urls': []}}, 'protected': False, 'followers_count': 957, 'friends_count': 255, 'listed_count': 35, 'created_at': 'Tue Nov 02 02:30:21 +0000 2010', 'favourites_count': 247, 'utc_offset': None, 'time_zone': None, 'geo_enabled': True, 'verified': False, 'statuses_count': 121557, 'lang': None, 'contributors_enabled': False, 'is_translator': False, 'is_translation_enabled': False, 'profile_background_color': '0EA1EB', 'profile_background_image_url': 'http://abs.twimg.com/images/themes/theme1/bg.png', 'profile_background_image_url_https': 'https://abs.twimg.com/images/themes/theme1/bg.png', 'profile_background_tile': True, 'profile_image_url': 'http://pbs.twimg.com/profile_images/1440352241177673735/Hlgx91Yk_normal.jpg', 'profile_image_url_https': 'https://pbs.twimg.com/profile_images/1440352241177673735/Hlgx91Yk_normal.jpg', 'profile_banner_url': 'https://pbs.twimg.com/profile_banners/211022939/1582161172', 'profile_link_color': 'EB0E33', 'profile_sidebar_border_color': 'FFFFFF', 'profile_sidebar_fill_color': '0C7844', 'profile_text_color': 'C722C7', 'profile_use_background_image': True, 'has_extended_profile': False, 'default_profile': False, 'default_profile_image': False, 'following': None, 'follow_request_sent': None, 'notifications': None, 'translator_type': 'none', 'withheld_in_countries': []}, 'geo': None, 'coordinates': None, 'place': None, 'contributors': None, 'is_quote_status': False, 'retweet_count': 0, 'favorite_count': 0, 'favorited': False, 'retweeted': False, 'lang': 'en'}, {'created_at': 'Fri Sep 17 21:27:09 +0000 2021', 'id': 1438977850846158854, 'id_str': '1438977850846158854', 'text': '@pattiefoto The peanut allergy that currently can kill many is as curable with the Covid vaccine as Covid is.', 'truncated': False, 'entities': {'hashtags': [], 'symbols': [], 'user_mentions': [{'screen_name': 'pattiefoto', 'name': '-- pattiefoto', 'id': 217903989, 'id_str': '217903989', 'indices': [0, 11]}], 'urls': []}, 'metadata': {'iso_language_code': 'en', 'result_type': 'recent'}, 'source': '<a href=\"http://twitter.com/download/iphone\" rel=\"nofollow\">Twitter for iPhone</a>', 'in_reply_to_status_id': 1438977221985775627, 'in_reply_to_status_id_str': '1438977221985775627', 'in_reply_to_user_id': 217903989, 'in_reply_to_user_id_str': '217903989', 'in_reply_to_screen_name': 'pattiefoto', 'user': {'id': 14533791, 'id_str': '14533791', 'name': 'Jake', 'screen_name': 'pentony', 'location': 'America', 'description': '#FJB', 'url': None, 'entities': {'description': {'urls': []}}, 'protected': False, 'followers_count': 2558, 'friends_count': 2707, 'listed_count': 2, 'created_at': 'Fri Apr 25 20:35:13 +0000 2008', 'favourites_count': 6673, 'utc_offset': None, 'time_zone': None, 'geo_enabled': False, 'verified': False, 'statuses_count': 39063, 'lang': None, 'contributors_enabled': False, 'is_translator': False, 'is_translation_enabled': False, 'profile_background_color': 'C0DEED', 'profile_background_image_url': 'http://abs.twimg.com/images/themes/theme1/bg.png', 'profile_background_image_url_https': 'https://abs.twimg.com/images/themes/theme1/bg.png', 'profile_background_tile': False, 'profile_image_url': 'http://pbs.twimg.com/profile_images/1405749358256017417/PBHj_thj_normal.jpg', 'profile_image_url_https': 'https://pbs.twimg.com/profile_images/1405749358256017417/PBHj_thj_normal.jpg', 'profile_banner_url': 'https://pbs.twimg.com/profile_banners/14533791/1610331466', 'profile_link_color': '1DA1F2', 'profile_sidebar_border_color': 'C0DEED', 'profile_sidebar_fill_color': 'DDEEF6', 'profile_text_color': '333333', 'profile_use_background_image': True, 'has_extended_profile': False, 'default_profile': True, 'default_profile_image': False, 'following': None, 'follow_request_sent': None, 'notifications': None, 'translator_type': 'none', 'withheld_in_countries': []}, 'geo': None, 'coordinates': None, 'place': None, 'contributors': None, 'is_quote_status': False, 'retweet_count': 1, 'favorite_count': 1, 'favorited': False, 'retweeted': False, 'lang': 'en'}, {'created_at': 'Fri Sep 17 18:43:19 +0000 2021', 'id': 1438936620863049729, 'id_str': '1438936620863049729', 'text': 'So can kids opt out of peanut allergy regulations at school? Like can a kid say \"sorry it\\'s my fucking right to eat… https://t.co/vhdI8S5GsA', 'truncated': True, 'entities': {'hashtags': [], 'symbols': [], 'user_mentions': [], 'urls': [{'url': 'https://t.co/vhdI8S5GsA', 'expanded_url': 'https://twitter.com/i/web/status/1438936620863049729', 'display_url': 'twitter.com/i/web/status/1…', 'indices': [117, 140]}]}, 'metadata': {'iso_language_code': 'en', 'result_type': 'recent'}, 'source': '<a href=\"https://mobile.twitter.com\" rel=\"nofollow\">Twitter Web App</a>', 'in_reply_to_status_id': None, 'in_reply_to_status_id_str': None, 'in_reply_to_user_id': None, 'in_reply_to_user_id_str': None, 'in_reply_to_screen_name': None, 'user': {'id': 44258079, 'id_str': '44258079', 'name': '🧡veebs says get vaxxed🧡', 'screen_name': 'veebs47', 'location': \"Wilson's Foul Domain\", 'description': '20 years later and I’m still upside down…#GetVaccinated #MaskUpSTILL #Phish #Phish #Phish #JusticeForMyanmar #FuckTheGQP #MorePhish #PhishBackYet #MinersRights', 'url': 'https://t.co/HRNneUSSJx', 'entities': {'url': {'urls': [{'url': 'https://t.co/HRNneUSSJx', 'expanded_url': 'http://mbird.org/', 'display_url': 'mbird.org', 'indices': [0, 23]}]}, 'description': {'urls': []}}, 'protected': False, 'followers_count': 1173, 'friends_count': 1962, 'listed_count': 15, 'created_at': 'Wed Jun 03 01:17:51 +0000 2009', 'favourites_count': 93213, 'utc_offset': None, 'time_zone': None, 'geo_enabled': False, 'verified': False, 'statuses_count': 18651, 'lang': None, 'contributors_enabled': False, 'is_translator': False, 'is_translation_enabled': False, 'profile_background_color': 'BADFCD', 'profile_background_image_url': 'http://abs.twimg.com/images/themes/theme1/bg.png', 'profile_background_image_url_https': 'https://abs.twimg.com/images/themes/theme1/bg.png', 'profile_background_tile': False, 'profile_image_url': 'http://pbs.twimg.com/profile_images/1421087188905758724/2EH_tEwc_normal.jpg', 'profile_image_url_https': 'https://pbs.twimg.com/profile_images/1421087188905758724/2EH_tEwc_normal.jpg', 'profile_banner_url': 'https://pbs.twimg.com/profile_banners/44258079/1627648643', 'profile_link_color': 'F58EA8', 'profile_sidebar_border_color': 'F2E195', 'profile_sidebar_fill_color': 'FFF7CC', 'profile_text_color': '0C3E53', 'profile_use_background_image': True, 'has_extended_profile': True, 'default_profile': False, 'default_profile_image': False, 'following': None, 'follow_request_sent': None, 'notifications': None, 'translator_type': 'none', 'withheld_in_countries': []}, 'geo': None, 'coordinates': None, 'place': None, 'contributors': None, 'is_quote_status': False, 'retweet_count': 0, 'favorite_count': 6, 'favorited': False, 'retweeted': False, 'lang': 'en'}, {'created_at': 'Wed Sep 15 12:02:39 +0000 2021', 'id': 1438111016055984129, 'id_str': '1438111016055984129', 'text': '@RealCandaceO did you realize that peanut allergy comes from vaccine manufacturers using peanut culture to grow the… https://t.co/ZKKLLVpG9P', 'truncated': True, 'entities': {'hashtags': [], 'symbols': [], 'user_mentions': [{'screen_name': 'RealCandaceO', 'name': 'Candace Owens', 'id': 878247600096509952, 'id_str': '878247600096509952', 'indices': [0, 13]}], 'urls': [{'url': 'https://t.co/ZKKLLVpG9P', 'expanded_url': 'https://twitter.com/i/web/status/1438111016055984129', 'display_url': 'twitter.com/i/web/status/1…', 'indices': [117, 140]}]}, 'metadata': {'iso_language_code': 'en', 'result_type': 'recent'}, 'source': '<a href=\"http://twitter.com/download/android\" rel=\"nofollow\">Twitter for Android</a>', 'in_reply_to_status_id': None, 'in_reply_to_status_id_str': None, 'in_reply_to_user_id': 878247600096509952, 'in_reply_to_user_id_str': '878247600096509952', 'in_reply_to_screen_name': 'RealCandaceO', 'user': {'id': 1383073535665479680, 'id_str': '1383073535665479680', 'name': 'The Civil Power Podcast 🇺🇲 🎙', 'screen_name': 'AbolishTyranny_', 'location': '', 'description': 'Host of The Civil Power Podcast \\nhttps://t.co/uj2eUvxtNe', 'url': None, 'entities': {'description': {'urls': [{'url': 'https://t.co/uj2eUvxtNe', 'expanded_url': 'https://rumble.com/c/c-1006975', 'display_url': 'rumble.com/c/c-1006975', 'indices': [33, 56]}]}}, 'protected': False, 'followers_count': 217, 'friends_count': 574, 'listed_count': 0, 'created_at': 'Fri Apr 16 15:03:53 +0000 2021', 'favourites_count': 2698, 'utc_offset': None, 'time_zone': None, 'geo_enabled': False, 'verified': False, 'statuses_count': 6650, 'lang': None, 'contributors_enabled': False, 'is_translator': False, 'is_translation_enabled': False, 'profile_background_color': 'F5F8FA', 'profile_background_image_url': None, 'profile_background_image_url_https': None, 'profile_background_tile': False, 'profile_image_url': 'http://pbs.twimg.com/profile_images/1427636454814007304/emFn1hfH_normal.jpg', 'profile_image_url_https': 'https://pbs.twimg.com/profile_images/1427636454814007304/emFn1hfH_normal.jpg', 'profile_banner_url': 'https://pbs.twimg.com/profile_banners/1383073535665479680/1629209076', 'profile_link_color': '1DA1F2', 'profile_sidebar_border_color': 'C0DEED', 'profile_sidebar_fill_color': 'DDEEF6', 'profile_text_color': '333333', 'profile_use_background_image': True, 'has_extended_profile': True, 'default_profile': True, 'default_profile_image': False, 'following': None, 'follow_request_sent': None, 'notifications': None, 'translator_type': 'none', 'withheld_in_countries': []}, 'geo': None, 'coordinates': None, 'place': None, 'contributors': None, 'is_quote_status': False, 'retweet_count': 0, 'favorite_count': 1, 'favorited': False, 'retweeted': False, 'possibly_sensitive': False, 'lang': 'en'}]\n"
     ]
    }
   ],
   "source": [
    "statuses = search_results['statuses']\n",
    "print(statuses)"
   ]
  },
  {
   "cell_type": "code",
   "execution_count": 14,
   "metadata": {},
   "outputs": [
    {
     "name": "stdout",
     "output_type": "stream",
     "text": [
      "Length of statuses 16\n",
      "Length of statuses 16\n",
      "{\n",
      " \"created_at\": \"Wed Sep 22 20:56:15 +0000 2021\",\n",
      " \"id\": 1440782017138806786,\n",
      " \"id_str\": \"1440782017138806786\",\n",
      " \"text\": \"@hieronious @WhosePolitics @DAnderson314 @nypost And a peanut allergy vaccine would be awesome for them.\",\n",
      " \"truncated\": false,\n",
      " \"entities\": {\n",
      "  \"hashtags\": [],\n",
      "  \"symbols\": [],\n",
      "  \"user_mentions\": [\n",
      "   {\n",
      "    \"screen_name\": \"hieronious\",\n",
      "    \"name\": \"Hieronious\",\n",
      "    \"id\": 1389588666708725764,\n",
      "    \"id_str\": \"1389588666708725764\",\n",
      "    \"indices\": [\n",
      "     0,\n",
      "     11\n",
      "    ]\n",
      "   },\n",
      "   {\n",
      "    \"screen_name\": \"WhosePolitics\",\n",
      "    \"name\": \"something witty\",\n",
      "    \"id\": 730213920825344000,\n",
      "    \"id_str\": \"730213920825344000\",\n",
      "    \"indices\": [\n",
      "     12,\n",
      "     26\n",
      "    ]\n",
      "   },\n",
      "   {\n",
      "    \"screen_name\": \"DAnderson314\",\n",
      "    \"name\": \"DA\",\n",
      "    \"id\": 1405943564,\n",
      "    \"id_str\": \"1405943564\",\n",
      "    \"indices\": [\n",
      "     27,\n",
      "     40\n",
      "    ]\n",
      "   },\n",
      "   {\n",
      "    \"screen_name\": \"nypost\",\n",
      "    \"name\": \"New York Post\",\n",
      "    \"id\": 17469289,\n",
      "    \"id_str\": \"17469289\",\n",
      "    \"indices\": [\n",
      "     41,\n",
      "     48\n",
      "    ]\n",
      "   }\n",
      "  ],\n",
      "  \"urls\": []\n",
      " },\n",
      " \"metadata\": {\n",
      "  \"iso_language_code\": \"en\",\n",
      "  \"result_type\": \"recent\"\n",
      " },\n",
      " \"source\": \"<a href=\\\"http://twitter.com/download/iphone\\\" rel=\\\"nofollow\\\">Twitter for iPhone</a>\",\n",
      " \"in_reply_to_status_id\": 1440777750097248263,\n",
      " \"in_reply_to_status_id_str\": \"1440777750097248263\",\n",
      " \"in_reply_to_user_id\": 1389588666708725764,\n",
      " \"in_reply_to_user_id_str\": \"1389588666708725764\",\n",
      " \"in_reply_to_screen_name\": \"hieronious\",\n",
      " \"user\": {\n",
      "  \"id\": 1679188633,\n",
      "  \"id_str\": \"1679188633\",\n",
      "  \"name\": \"Harpua\",\n",
      "  \"screen_name\": \"Harpua71\",\n",
      "  \"location\": \"Gamehendge\",\n",
      "  \"description\": \"Inflation is taxation without representation - Milton Friedman\",\n",
      "  \"url\": \"https://t.co/scNOzNauin\",\n",
      "  \"entities\": {\n",
      "   \"url\": {\n",
      "    \"urls\": [\n",
      "     {\n",
      "      \"url\": \"https://t.co/scNOzNauin\",\n",
      "      \"expanded_url\": \"http://istillcallitdeercreek.com\",\n",
      "      \"display_url\": \"istillcallitdeercreek.com\",\n",
      "      \"indices\": [\n",
      "       0,\n",
      "       23\n",
      "      ]\n",
      "     }\n",
      "    ]\n",
      "   },\n",
      "   \"description\": {\n",
      "    \"urls\": []\n",
      "   }\n",
      "  },\n",
      "  \"protected\": false,\n",
      "  \"followers_count\": 371,\n",
      "  \"friends_count\": 1463,\n",
      "  \"listed_count\": 16,\n",
      "  \"created_at\": \"Sat Aug 17 21:15:22 +0000 2013\",\n",
      "  \"favourites_count\": 24938,\n",
      "  \"utc_offset\": null,\n",
      "  \"time_zone\": null,\n",
      "  \"geo_enabled\": false,\n",
      "  \"verified\": false,\n",
      "  \"statuses_count\": 37314,\n",
      "  \"lang\": null,\n",
      "  \"contributors_enabled\": false,\n",
      "  \"is_translator\": false,\n",
      "  \"is_translation_enabled\": false,\n",
      "  \"profile_background_color\": \"709397\",\n",
      "  \"profile_background_image_url\": \"http://abs.twimg.com/images/themes/theme6/bg.gif\",\n",
      "  \"profile_background_image_url_https\": \"https://abs.twimg.com/images/themes/theme6/bg.gif\",\n",
      "  \"profile_background_tile\": false,\n",
      "  \"profile_image_url\": \"http://pbs.twimg.com/profile_images/1119700445763702785/ROY734Fw_normal.jpg\",\n",
      "  \"profile_image_url_https\": \"https://pbs.twimg.com/profile_images/1119700445763702785/ROY734Fw_normal.jpg\",\n",
      "  \"profile_banner_url\": \"https://pbs.twimg.com/profile_banners/1679188633/1622302832\",\n",
      "  \"profile_link_color\": \"B6D4BD\",\n",
      "  \"profile_sidebar_border_color\": \"86A4A6\",\n",
      "  \"profile_sidebar_fill_color\": \"A0C5C7\",\n",
      "  \"profile_text_color\": \"333333\",\n",
      "  \"profile_use_background_image\": true,\n",
      "  \"has_extended_profile\": true,\n",
      "  \"default_profile\": false,\n",
      "  \"default_profile_image\": false,\n",
      "  \"following\": null,\n",
      "  \"follow_request_sent\": null,\n",
      "  \"notifications\": null,\n",
      "  \"translator_type\": \"none\",\n",
      "  \"withheld_in_countries\": []\n",
      " },\n",
      " \"geo\": null,\n",
      " \"coordinates\": null,\n",
      " \"place\": null,\n",
      " \"contributors\": null,\n",
      " \"is_quote_status\": false,\n",
      " \"retweet_count\": 0,\n",
      " \"favorite_count\": 2,\n",
      " \"favorited\": false,\n",
      " \"retweeted\": false,\n",
      " \"lang\": \"en\"\n",
      "}\n"
     ]
    }
   ],
   "source": [
    "# Iterate through 5 more batches ti see the full metadata\n",
    "for _ in range(5):\n",
    "    print('Length of statuses', len(statuses))\n",
    "    try:\n",
    "        next_results = search_results['search_metadata']['next_results']\n",
    "    except KeyError as e: # No more results when next_results doesn't exist\n",
    "        break\n",
    "        \n",
    "    # Create a dictionary from next_results, which has the following form:\n",
    "    kwargs = dict([ kv.split('=') for kv in unquote(next_results[1:]).split(\"&\") ])\n",
    "    \n",
    "    search_results = twitter_api.search.tweets(**kwargs)\n",
    "    statuses += search_results['statuses']\n",
    "\n",
    "# Show one sample search result by slicing the list...\n",
    "print(json.dumps(statuses[0], indent=1))\n"
   ]
  },
  {
   "cell_type": "code",
   "execution_count": 15,
   "metadata": {},
   "outputs": [
    {
     "name": "stdout",
     "output_type": "stream",
     "text": [
      "\n",
      "@hieronious @WhosePolitics @DAnderson314 @nypost And a peanut allergy vaccine would be awesome for them.\n",
      "Favorites:  2\n",
      "Retweets:  0\n",
      "\n",
      "$AGY #Allergy Therapeutics PLC Allergy Therapeutics: VLP Peanut heading towards US Phase I studies: Allergy Therape… https://t.co/6gEQL5RFwA\n",
      "Favorites:  0\n",
      "Retweets:  0\n",
      "\n",
      "@polycomplexity @VP @POTUS reaction. Allergic reactions can happen to anyone for any reason(peanut allergies are a… https://t.co/6ZZyKAdngH\n",
      "Favorites:  0\n",
      "Retweets:  0\n",
      "\n",
      "@Kai2002z @ACME_Van @gabegutierrez @BillingsClinic The best one I heard was that she couldn’t get vaccinated becaus… https://t.co/bWkj5dye1U\n",
      "Favorites:  3\n",
      "Retweets:  0\n",
      "\n",
      "RT @1LastRepublican: @Gitmo33 Anyone have an actual name of the child or any documentation of what really happened? \n",
      "Or are we just suppose…\n",
      "Favorites:  0\n",
      "Retweets:  1\n",
      "\n",
      "@Gitmo33 Anyone have an actual name of the child or any documentation of what really happened? \n",
      "Or are we just supp… https://t.co/fhOoo9A4SI\n",
      "Favorites:  27\n",
      "Retweets:  1\n",
      "\n",
      "@laurahelmuth @sciam I know there’s a vaccine for peanut allergies now (I don’t have a peanut allergy), I’m despera… https://t.co/3gEycI4gUn\n",
      "Favorites:  1\n",
      "Retweets:  0\n",
      "\n",
      "@infamouse11 @kaki385 $100 bucks they won't record it as a Covid vaccine death...probably reported as  a peanut allergy\n",
      "Favorites:  7\n",
      "Retweets:  0\n",
      "\n",
      "@DiamondandSilk It's so funny u mentioned peanut allergy. And u know the sad shit about that people don't even beli… https://t.co/bUtHqL9ASP\n",
      "Favorites:  0\n",
      "Retweets:  0\n",
      "\n",
      "@DrP_MD \n",
      "Christine C suggested I contact you. My son has a peanut allergy. We were told he should not have this Cov… https://t.co/TsnYH2OW3s\n",
      "Favorites:  0\n",
      "Retweets:  0\n"
     ]
    }
   ],
   "source": [
    "# Here the text of the tweets with favorite counts and retweets\n",
    "for i in range(10):\n",
    "    print()\n",
    "    print(statuses[i]['text'])\n",
    "    print('Favorites: ', statuses[i]['favorite_count'])\n",
    "    print('Retweets: ', statuses[i]['retweet_count'])"
   ]
  },
  {
   "cell_type": "markdown",
   "metadata": {},
   "source": [
    "## Extracting text, screen names, and hashtags from tweets"
   ]
  },
  {
   "cell_type": "code",
   "execution_count": 16,
   "metadata": {},
   "outputs": [
    {
     "name": "stdout",
     "output_type": "stream",
     "text": [
      "[\n",
      " \"@hieronious @WhosePolitics @DAnderson314 @nypost And a peanut allergy vaccine would be awesome for them.\",\n",
      " \"$AGY #Allergy Therapeutics PLC Allergy Therapeutics: VLP Peanut heading towards US Phase I studies: Allergy Therape\\u2026 https://t.co/6gEQL5RFwA\",\n",
      " \"@polycomplexity @VP @POTUS reaction. Allergic reactions can happen to anyone for any reason(peanut allergies are a\\u2026 https://t.co/6ZZyKAdngH\",\n",
      " \"@Kai2002z @ACME_Van @gabegutierrez @BillingsClinic The best one I heard was that she couldn\\u2019t get vaccinated becaus\\u2026 https://t.co/bWkj5dye1U\",\n",
      " \"RT @1LastRepublican: @Gitmo33 Anyone have an actual name of the child or any documentation of what really happened? \\nOr are we just suppose\\u2026\"\n",
      "]\n",
      "[\n",
      " \"hieronious\",\n",
      " \"WhosePolitics\",\n",
      " \"DAnderson314\",\n",
      " \"nypost\",\n",
      " \"polycomplexity\"\n",
      "]\n",
      "[\n",
      " \"Allergy\"\n",
      "]\n",
      "[\n",
      " \"@hieronious\",\n",
      " \"@WhosePolitics\",\n",
      " \"@DAnderson314\",\n",
      " \"@nypost\",\n",
      " \"And\"\n",
      "]\n"
     ]
    }
   ],
   "source": [
    "status_texts = [ status['text'] \n",
    "                 for status in statuses ]\n",
    "\n",
    "screen_names = [ user_mention['screen_name'] \n",
    "                 for status in statuses\n",
    "                     for user_mention in status['entities']['user_mentions'] ]\n",
    "\n",
    "hashtags = [ hashtag['text'] \n",
    "             for status in statuses\n",
    "                 for hashtag in status['entities']['hashtags'] ]\n",
    "\n",
    "# Compute a collection of all words from all tweets\n",
    "words = [ w \n",
    "          for t in status_texts \n",
    "              for w in t.split() ]\n",
    "\n",
    "# Explore the first 5 items for each...\n",
    "\n",
    "print(json.dumps(status_texts[0:5], indent=1))\n",
    "print(json.dumps(screen_names[0:5], indent=1) )\n",
    "print(json.dumps(hashtags[0:5], indent=1))\n",
    "print(json.dumps(words[0:5], indent=1))"
   ]
  },
  {
   "cell_type": "markdown",
   "metadata": {},
   "source": [
    "## Words frequencies in the tweets"
   ]
  },
  {
   "cell_type": "code",
   "execution_count": 19,
   "metadata": {},
   "outputs": [
    {
     "name": "stdout",
     "output_type": "stream",
     "text": [
      "[('peanut', 11), ('a', 8), ('vaccine', 8), ('the', 7), ('allergy', 6), ('as', 6), ('can', 5), ('that', 5), ('of', 5), ('Covid', 5)]\n",
      "\n",
      "[('Gitmo33', 2), ('pattiefoto', 2), ('hieronious', 1), ('WhosePolitics', 1), ('DAnderson314', 1), ('nypost', 1), ('polycomplexity', 1), ('VP', 1), ('POTUS', 1), ('Kai2002z', 1)]\n",
      "\n",
      "[('Allergy', 1)]\n",
      "\n"
     ]
    }
   ],
   "source": [
    "for item in [words, screen_names, hashtags]:\n",
    "    c = Counter(item)\n",
    "    print(c.most_common()[:10]) # top 10\n",
    "    print()"
   ]
  },
  {
   "cell_type": "markdown",
   "metadata": {},
   "source": [
    "## Store results in a tabular format"
   ]
  },
  {
   "cell_type": "code",
   "execution_count": 45,
   "metadata": {},
   "outputs": [
    {
     "name": "stdout",
     "output_type": "stream",
     "text": [
      "+---------+-------+\n",
      "| Word    | Count |\n",
      "+---------+-------+\n",
      "| peanut  |    11 |\n",
      "| a       |     8 |\n",
      "| vaccine |     8 |\n",
      "| the     |     7 |\n",
      "| allergy |     6 |\n",
      "| as      |     6 |\n",
      "| can     |     5 |\n",
      "| that    |     5 |\n",
      "| of      |     5 |\n",
      "| Covid   |     5 |\n",
      "+---------+-------+\n",
      "+----------------+-------+\n",
      "| Screen Name    | Count |\n",
      "+----------------+-------+\n",
      "| Gitmo33        |     2 |\n",
      "| pattiefoto     |     2 |\n",
      "| hieronious     |     1 |\n",
      "| WhosePolitics  |     1 |\n",
      "| DAnderson314   |     1 |\n",
      "| nypost         |     1 |\n",
      "| polycomplexity |     1 |\n",
      "| VP             |     1 |\n",
      "| POTUS          |     1 |\n",
      "| Kai2002z       |     1 |\n",
      "+----------------+-------+\n",
      "+---------+-------+\n",
      "| Hashtag | Count |\n",
      "+---------+-------+\n",
      "| Allergy |     1 |\n",
      "+---------+-------+\n"
     ]
    }
   ],
   "source": [
    "for label, data in (('Word', words), \n",
    "                    ('Screen Name', screen_names), \n",
    "                    ('Hashtag', hashtags)):\n",
    "    pt = PrettyTable(field_names=[label, 'Count']) \n",
    "    c = Counter(data)\n",
    "    [ pt.add_row(kv) for kv in c.most_common()[:10] ]\n",
    "    pt.align[label], pt.align['Count'] = 'l', 'r' # Set column alignment\n",
    "    print(pt)"
   ]
  },
  {
   "cell_type": "markdown",
   "metadata": {},
   "source": [
    "## Calculating lexical diversity for tweets"
   ]
  },
  {
   "cell_type": "code",
   "execution_count": 47,
   "metadata": {},
   "outputs": [
    {
     "name": "stdout",
     "output_type": "stream",
     "text": [
      "0.6580645161290323\n",
      "0.9310344827586207\n",
      "1.0\n",
      "19.375\n"
     ]
    }
   ],
   "source": [
    "# A function for computing lexical diversity\n",
    "def lexical_diversity(tokens):\n",
    "    return len(set(tokens))/len(tokens) \n",
    "\n",
    "# A function for computing the average number of words per tweet\n",
    "def average_words(statuses):\n",
    "    total_words = sum([ len(s.split()) for s in statuses ]) \n",
    "    return total_words/len(statuses)\n",
    "\n",
    "print(lexical_diversity(words))\n",
    "print(lexical_diversity(screen_names))\n",
    "print(lexical_diversity(hashtags))\n",
    "print(average_words(status_texts))"
   ]
  },
  {
   "cell_type": "markdown",
   "metadata": {},
   "source": [
    "## Finding the most popular retweets"
   ]
  },
  {
   "cell_type": "code",
   "execution_count": 25,
   "metadata": {},
   "outputs": [
    {
     "name": "stdout",
     "output_type": "stream",
     "text": [
      "+-------+-----------------+---------------------+----------------------------------------------------+\n",
      "| Count | Screen Name     | Tweet ID            | Text                                               |\n",
      "+-------+-----------------+---------------------+----------------------------------------------------+\n",
      "| 1     | pentony         | 1438977850846158854 | RT @pentony: @pattiefoto The peanut allergy that   |\n",
      "|       |                 |                     | currently can kill many is as curable with the     |\n",
      "|       |                 |                     | Covid vaccine as Covid is.                         |\n",
      "| 1     | 1LastRepublican | 1439956622307069952 | RT @1LastRepublican: @Gitmo33 Anyone have an       |\n",
      "|       |                 |                     | actual name of the child or any documentation of   |\n",
      "|       |                 |                     | what really happened?                              |\n",
      "|       |                 |                     | Or are we just suppose…                            |\n",
      "+-------+-----------------+---------------------+----------------------------------------------------+\n"
     ]
    }
   ],
   "source": [
    "retweets = [\n",
    "            # Store out a tuple of these three values ...\n",
    "            (status['retweet_count'], \n",
    "             status['retweeted_status']['user']['screen_name'],\n",
    "             status['retweeted_status']['id'],\n",
    "             status['text']) \n",
    "            \n",
    "            # ... for each status ...\n",
    "            for status in statuses \n",
    "            \n",
    "            # ... so long as the status meets this condition.\n",
    "                if 'retweeted_status' in status.keys()\n",
    "           ]\n",
    "\n",
    "# Slice off the first 5 from the sorted results and display each item in the tuple\n",
    "\n",
    "pt = PrettyTable(field_names=['Count', 'Screen Name', 'Tweet ID', 'Text'])\n",
    "[ pt.add_row(row) for row in sorted(retweets, reverse=True)[:5] ]\n",
    "pt.max_width['Text'] = 50\n",
    "pt.align= 'l'\n",
    "print(pt)"
   ]
  },
  {
   "cell_type": "markdown",
   "metadata": {},
   "source": [
    "## Looking up users who have retweeted a status"
   ]
  },
  {
   "cell_type": "code",
   "execution_count": 48,
   "metadata": {},
   "outputs": [],
   "source": [
    "\n",
    "# Get the original tweet id for a tweet from its retweeted_status node \n",
    "# and insert it here\n",
    "\n",
    "_retweets = twitter_api.statuses.retweets(id=id)\n",
    "#print([r['user']['screen_name'] for r in _retweets])"
   ]
  },
  {
   "cell_type": "markdown",
   "metadata": {},
   "source": [
    "## Plotting frequencies of words"
   ]
  },
  {
   "cell_type": "code",
   "execution_count": 27,
   "metadata": {},
   "outputs": [
    {
     "data": {
      "text/plain": [
       "Text(0.5, 0, 'Word Rank')"
      ]
     },
     "execution_count": 27,
     "metadata": {},
     "output_type": "execute_result"
    },
    {
     "data": {
      "image/png": "[encoded data removed]",
      "text/plain": [
       "<Figure size 432x288 with 1 Axes>"
      ]
     },
     "metadata": {
      "needs_background": "light"
     },
     "output_type": "display_data"
    }
   ],
   "source": [
    "import matplotlib.pyplot as plt\n",
    "%matplotlib inline\n",
    "word_counts = sorted(Counter(words).values(), reverse=True)\n",
    "\n",
    "plt.loglog(word_counts)\n",
    "plt.ylabel(\"Freq\")\n",
    "plt.xlabel(\"Word Rank\")"
   ]
  },
  {
   "cell_type": "markdown",
   "metadata": {},
   "source": [
    "## Generating histograms of words, screen names, and hashtags"
   ]
  },
  {
   "cell_type": "code",
   "execution_count": 28,
   "metadata": {},
   "outputs": [
    {
     "data": {
      "image/png": "[encoded data removed]",
      "text/plain": [
       "<Figure size 432x288 with 1 Axes>"
      ]
     },
     "metadata": {
      "needs_background": "light"
     },
     "output_type": "display_data"
    },
    {
     "data": {
      "image/png": "[encoded data removed]",
      "text/plain": [
       "<Figure size 432x288 with 1 Axes>"
      ]
     },
     "metadata": {
      "needs_background": "light"
     },
     "output_type": "display_data"
    },
    {
     "data": {
      "image/png": "[encoded data removed]",
      "text/plain": [
       "<Figure size 432x288 with 1 Axes>"
      ]
     },
     "metadata": {
      "needs_background": "light"
     },
     "output_type": "display_data"
    },
    {
     "data": {
      "text/plain": [
       "<Figure size 432x288 with 0 Axes>"
      ]
     },
     "metadata": {},
     "output_type": "display_data"
    }
   ],
   "source": [
    "for label, data in (('Words', words), \n",
    "                    ('Screen Names', screen_names), \n",
    "                    ('Hashtags', hashtags)):\n",
    "\n",
    "    # Build a frequency map for each set of data\n",
    "    # and plot the values\n",
    "    c = Counter(data)\n",
    "    plt.hist(list(c.values()))\n",
    "    \n",
    "    # Add a title and y-label ...\n",
    "    plt.title(label)\n",
    "    plt.ylabel(\"Number of items in bin\")\n",
    "    plt.xlabel(\"Bins (number of times an item appeared)\")\n",
    "    \n",
    "    # ... and display as a new figure\n",
    "    plt.figure()"
   ]
  },
  {
   "cell_type": "markdown",
   "metadata": {},
   "source": [
    "## Generating a histogram of retweet counts"
   ]
  },
  {
   "cell_type": "code",
   "execution_count": 29,
   "metadata": {},
   "outputs": [
    {
     "data": {
      "text/plain": [
       "Text(0, 0.5, 'Number of tweets in bin')"
      ]
     },
     "execution_count": 29,
     "metadata": {},
     "output_type": "execute_result"
    },
    {
     "data": {
      "image/png": "[encoded data removed]",
      "text/plain": [
       "<Figure size 432x288 with 1 Axes>"
      ]
     },
     "metadata": {
      "needs_background": "light"
     },
     "output_type": "display_data"
    }
   ],
   "source": [
    "\n",
    "# Using underscores while unpacking values in\n",
    "# a tuple is idiomatic for discarding them\n",
    "\n",
    "counts = [count for count, _, _, _ in retweets]\n",
    "\n",
    "plt.hist(counts)\n",
    "plt.title('Retweets')\n",
    "plt.xlabel('Bins (number of times retweeted)')\n",
    "plt.ylabel('Number of tweets in bin')"
   ]
  },
  {
   "cell_type": "code",
   "execution_count": null,
   "metadata": {},
   "outputs": [],
   "source": []
  }
 ],
 "metadata": {
  "kernelspec": {
   "display_name": "Python 3",
   "language": "python",
   "name": "python3"
  },
  "language_info": {
   "codemirror_mode": {
    "name": "ipython",
    "version": 3
   },
   "file_extension": ".py",
   "mimetype": "text/x-python",
   "name": "python",
   "nbconvert_exporter": "python",
   "pygments_lexer": "ipython3",
   "version": "3.7.3"
  }
 },
 "nbformat": 4,
 "nbformat_minor": 2
}
